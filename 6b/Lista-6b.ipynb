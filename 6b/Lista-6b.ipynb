{
 "cells": [
  {
   "cell_type": "markdown",
   "id": "fdb64405",
   "metadata": {},
   "source": [
    "<div class=\"alert alert-block alert-info\">\n",
    "<center>Métodos Numericos</center>\n",
    "<center>LISTA 4b</center>\n",
    "<center>ALUNO: João Pedro de Sousa Corrêa</center>\n",
    "</div>"
   ]
  },
  {
   "cell_type": "markdown",
   "id": "51570b6a",
   "metadata": {},
   "source": [
    "<div class=\"alert alert-block alert-info\">\n",
    "<h4>1. Implemente os algoritmos da iteração de ponto fixo, Newton-Raphson e secante usando somente a biblioteca Numpy</h4>\n",
    "</div>"
   ]
  },
  {
   "cell_type": "code",
   "execution_count": 1,
   "id": "76768031",
   "metadata": {},
   "outputs": [],
   "source": [
    "import numpy as np\n",
    "import scipy.optimize as opt\n",
    "import matplotlib.pyplot as plt"
   ]
  },
  {
   "cell_type": "code",
   "execution_count": 2,
   "id": "54ce81bf",
   "metadata": {},
   "outputs": [],
   "source": [
    "def ponto_fixo(g,x0, tol=1e-10):#ponto fixo\n",
    "    erro,x1 = 1,0\n",
    "    interacoes = 0\n",
    "    convergencia = True\n",
    "    parada = True \n",
    "    while parada:\n",
    "        \n",
    "        x1 = g(x0)\n",
    "  \n",
    "        erro = np.abs((x1 - x0))/np.abs(x1)\n",
    "        x0 = np.abs(x1)\n",
    "        \n",
    "        interacoes +=1\n",
    "        if (erro<=tol):\n",
    "            parada = False\n",
    "        if (interacoes>=200):\n",
    "            parada = False\n",
    "            convergencia = False\n",
    "        \n",
    "        \n",
    "    return {\"Convergencia\":convergencia,\n",
    "                        \"Interações\":interacoes,\n",
    "                        \"Root\":x1\n",
    "                }\n",
    "\n",
    "f = lambda x: np.exp(-x)"
   ]
  },
  {
   "cell_type": "code",
   "execution_count": 3,
   "id": "4a7c9126",
   "metadata": {},
   "outputs": [
    {
     "data": {
      "text/plain": [
       "{'Convergencia': True, 'Interações': 7, 'Root': 0.5796123355033789}"
      ]
     },
     "execution_count": 3,
     "metadata": {},
     "output_type": "execute_result"
    }
   ],
   "source": [
    "ponto_fixo(f,0,1e-1)"
   ]
  },
  {
   "cell_type": "code",
   "execution_count": 4,
   "id": "a18f859f",
   "metadata": {},
   "outputs": [],
   "source": [
    "def newton(f, df, x0, tol = 1e-10):#newton\n",
    "    if np.abs(f(x0)) < tol:\n",
    "        return x0\n",
    "    else:\n",
    "        return newton(f, df, x0 - f(x0)/df(x0))"
   ]
  },
  {
   "cell_type": "code",
   "execution_count": 5,
   "id": "8dc5f4b4",
   "metadata": {},
   "outputs": [
    {
     "data": {
      "text/plain": [
       "0.5671432904097811"
      ]
     },
     "execution_count": 5,
     "metadata": {},
     "output_type": "execute_result"
    }
   ],
   "source": [
    "f1 = lambda x: np.exp(-x) - x\n",
    "f2 = lambda x: -np.exp(-x) - 1\n",
    "newton(f1,f2,0)"
   ]
  },
  {
   "cell_type": "code",
   "execution_count": 6,
   "id": "bef86f5c",
   "metadata": {},
   "outputs": [],
   "source": [
    "def secante(f,x0,x1,e = 1e-10,N = 10):\n",
    "    cont = 1\n",
    "    parada = True\n",
    "    while parada:\n",
    "        if f(x0) == f(x1):\n",
    "            print('Erro. Divisão por zero')\n",
    "            break\n",
    "\n",
    "        x2 = x0 - (x1-x0)*f(x0)/( f(x1) - f(x0) ) \n",
    "       \n",
    "        x0 = x1\n",
    "        x1 = x2\n",
    "        cont +=  1\n",
    "\n",
    "        if cont > N:\n",
    "            print('Não converge')\n",
    "            break\n",
    "\n",
    "        parada = np.abs(f(x2)) > e\n",
    "        \n",
    "    return x2\n",
    "\n",
    "f = lambda x: np.cos(x) - x"
   ]
  },
  {
   "cell_type": "code",
   "execution_count": 7,
   "id": "d049e29b",
   "metadata": {},
   "outputs": [
    {
     "data": {
      "text/plain": [
       "0.739085133215161"
      ]
     },
     "execution_count": 7,
     "metadata": {},
     "output_type": "execute_result"
    }
   ],
   "source": [
    "secante(f,-1,0)"
   ]
  },
  {
   "cell_type": "markdown",
   "id": "1f138173",
   "metadata": {},
   "source": [
    "<div class=\"alert alert-block alert-info\">\n",
    "<h4>2. Use a iteração de ponto fixo simples para localizar a raiz de $f (x) = 2 \\sin(√x)− x$, tendo x0 = 0, 5\n",
    "e adotando como critério de parada o erro $ e_a ≤ 0,001%$.</h4>\n",
    "</div>"
   ]
  },
  {
   "cell_type": "code",
   "execution_count": 8,
   "id": "d0e2a577",
   "metadata": {},
   "outputs": [
    {
     "data": {
      "text/plain": [
       "{'Convergencia': True, 'Interações': 6, 'Root': 1.9723441782726674}"
      ]
     },
     "execution_count": 8,
     "metadata": {},
     "output_type": "execute_result"
    }
   ],
   "source": [
    "def fi(x):\n",
    "    return 2*np.sin(x**(1/2))-x\n",
    "\n",
    "def gfi(x):\n",
    "    return 2*np.sin(x**(1/2))#simplificado\n",
    "\n",
    "ponto_fixo(gfi,0.5,1e-3)"
   ]
  },
  {
   "cell_type": "markdown",
   "id": "dfb611db",
   "metadata": {},
   "source": [
    "<div class=\"alert alert-block alert-info\">\n",
    "<h4>3. Determine a maior raiz real de $f (x) = 2x^3 − 11.7x^2 + 17.7x − 5$\n",
    "    <p> (a) Graficamente;</p>\n",
    "    <p> (b) Pelo método da iteração de ponto fixo (três iterações, x0 = 3)( certifique-se de desenvolver uma solução que convirja para a raiz);</p>\n",
    "    <p>(c) Pelo método de Newton-Raphson (três iterações, x0 = 3); </p>\n",
    "    <p>(d) Pelo método da secante (três iterações, x−1 = 3, x0 = 4). </p></h4>\n",
    "</div>"
   ]
  },
  {
   "cell_type": "code",
   "execution_count": 9,
   "id": "2241b235",
   "metadata": {},
   "outputs": [],
   "source": [
    "def f3(x):\n",
    "    return (2*(x**3))-(11.7*(x**2))+(17.7*x)-5\n",
    "\n",
    "def gf3(x):\n",
    "    return ((2*(x**3))-(11.7*(x**2))-5)/-17.7 #simplificado\n",
    "\n",
    "def f3i(x):\n",
    "    return 6*(x**2)-23.4*x+17.7 #derivada"
   ]
  },
  {
   "cell_type": "markdown",
   "id": "d54a18d3",
   "metadata": {},
   "source": [
    "<h4>(a) "
   ]
  },
  {
   "cell_type": "code",
   "execution_count": 10,
   "id": "96a9c393",
   "metadata": {},
   "outputs": [
    {
     "data": {
      "image/png": "[encoded data removed]",
      "text/plain": [
       "<Figure size 432x288 with 1 Axes>"
      ]
     },
     "metadata": {
      "needs_background": "light"
     },
     "output_type": "display_data"
    }
   ],
   "source": [
    "x = np.linspace(0,4,1000)\n",
    "plt.plot(x,f3(x))\n",
    "plt.plot([0.36,1.92,3.56],[0,0,0],'ro')\n",
    "plt.grid()"
   ]
  },
  {
   "cell_type": "markdown",
   "id": "85cdf19e",
   "metadata": {},
   "source": [
    "<h4>(b)"
   ]
  },
  {
   "cell_type": "code",
   "execution_count": 11,
   "id": "c8705b37",
   "metadata": {
    "scrolled": true
   },
   "outputs": [
    {
     "data": {
      "text/plain": [
       "3.442543246990202"
      ]
     },
     "execution_count": 11,
     "metadata": {},
     "output_type": "execute_result"
    }
   ],
   "source": [
    "def ponto_fixo2(g,x0,interacao = 100):#ponto fixo2\n",
    "    cont,x1 = 0,0\n",
    "    while interacao!=cont:\n",
    "        x1 = g(x0)\n",
    "        x0 =  np.abs(x1)\n",
    "        cont+=1\n",
    "    return x1\n",
    "\n",
    "\n",
    "ponto_fixo2(gf3,3,3)"
   ]
  },
  {
   "cell_type": "markdown",
   "id": "c0be5b9a",
   "metadata": {},
   "source": [
    "<h4>(c) "
   ]
  },
  {
   "cell_type": "code",
   "execution_count": 12,
   "id": "3989cdb5",
   "metadata": {},
   "outputs": [
    {
     "data": {
      "text/plain": [
       "3.7929344806432264"
      ]
     },
     "execution_count": 12,
     "metadata": {},
     "output_type": "execute_result"
    }
   ],
   "source": [
    "def newton2(f, df, x0, tol = 100,cont = 0):#newton\n",
    "   \n",
    "    if cont == tol:\n",
    "        return x0\n",
    "    else:\n",
    "        cont+=1\n",
    "        \n",
    "        return newton2(f, df, x0 - f(x0)/df(x0),tol,cont)\n",
    "newton2(f3,f3i,3,3)"
   ]
  },
  {
   "cell_type": "markdown",
   "id": "0133413d",
   "metadata": {},
   "source": [
    "<h4>(d)"
   ]
  },
  {
   "cell_type": "code",
   "execution_count": 13,
   "id": "5ffe868d",
   "metadata": {},
   "outputs": [
    {
     "name": "stdout",
     "output_type": "stream",
     "text": [
      "Não converge\n"
     ]
    },
    {
     "data": {
      "text/plain": [
       "3.586275384711736"
      ]
     },
     "execution_count": 13,
     "metadata": {},
     "output_type": "execute_result"
    }
   ],
   "source": [
    "secante(f3,3,4,1e-10,3)"
   ]
  },
  {
   "cell_type": "markdown",
   "id": "f3dea328",
   "metadata": {},
   "source": [
    "<div class=\"alert alert-block alert-info\">\n",
    "<h4>4. Compare os métodos da bisseção, falsa posição, do ponto fixo, de Newton-Raphson e da secante, localizando a raiz das seguintes equações:\n",
    "<p></p>    \n",
    "<p> (a) $ f1(x) = 2x^4 + 4x^3 + 3x^2 − 10x − 15,$ com $x^∗ ∈ [0, 3]$</p>\n",
    "<p> (b) $ f2 (x) = (x + 3)(x + 1)(x − 2)^3,$ com $x^∗ ∈ [0, 5]$</p>\n",
    "<p> (c) $ f3 (x) = 5x^3 + x^2 − e^(1−2x) + cos(x) + 20,$ com $x^∗ ∈ [-5, 5]$</p>\n",
    "<p> (d) $ f4(x) = sin(x)^x + 4,$ com $x^∗ ∈ [1, 5]$</p>\n",
    "<p> (e) $  f5(x) = (x − 3)^5 ln(x),$ com $x^∗ ∈ [2, 5]$</p>\n",
    "<p> (f) $  f6 (x) = x^10 − 1,$ com $x^∗ ∈ [0.8, 1.2]$</p>\n",
    "   \n",
    "</h4>\n",
    "</div>"
   ]
  },
  {
   "cell_type": "code",
   "execution_count": 14,
   "id": "ebc1cc34",
   "metadata": {},
   "outputs": [],
   "source": [
    "def interpolacao(f, a, b, tol=1e-10):#Falsa posição\n",
    "    erro, x_ant = 1, a\n",
    "    interacoes = 0\n",
    "    convergencia = True\n",
    " \n",
    "    while(erro > tol and interacoes < 200):\n",
    "        inf = np.sign(f(a))\n",
    "        sup = np.sign(f(b))\n",
    "        if inf*sup != -1: \n",
    "            convergencia = False\n",
    "            \n",
    "            return inf*sup\n",
    "        else:\n",
    "            x = a-((f(a)*(b-a))/(f(b)-f(a)))\n",
    "            if f(x) == 0:\n",
    "                \n",
    "               \n",
    "                return {\"Convergencia\":convergencia,\n",
    "                        \"Interações\":interacoes,\n",
    "                        \"Root\":x\n",
    "                }\n",
    "            \n",
    "            elif inf*np.sign(f(x)) == -1: b = x\n",
    "            else: a = x\n",
    "                \n",
    "        erro = np.abs((x - x_ant)/x)\n",
    "        x_ant = x\n",
    "        interacoes+=1\n",
    "    if(interacoes == 200):\n",
    "        convergencia = False\n",
    "        \n",
    "    return {\"Convergencia\":convergencia,\n",
    "                        \"Interações\":interacoes,\n",
    "                        \"Root\":x\n",
    "                }"
   ]
  },
  {
   "cell_type": "markdown",
   "id": "4a744ad9",
   "metadata": {},
   "source": [
    "<h4>a) "
   ]
  },
  {
   "cell_type": "code",
   "execution_count": 15,
   "id": "c8053e9f",
   "metadata": {},
   "outputs": [],
   "source": [
    "def f1(x):\n",
    "    return (2*(x**4))+(4*(x**3))+(3*(x**2))-(10*x)-15\n",
    "\n",
    "def f1i(x):\n",
    "    return (8*(x**3))+(12*(x**2))+(6*x)-10 #derivada\n",
    "\n",
    "def gf1(x):\n",
    "    return ((2*(x**4))+(4*(x**3))+(3*(x**2))-15)/10 #simplificada\n",
    "\n",
    "def g2f1(x):\n",
    "    return ((x**2)*(2*(x**2)+4*(x)+3)-15)/10 #simplificada2\n"
   ]
  },
  {
   "cell_type": "code",
   "execution_count": 16,
   "id": "4f116991",
   "metadata": {
    "scrolled": true
   },
   "outputs": [
    {
     "data": {
      "text/plain": [
       "      converged: True\n",
       "           flag: 'converged'\n",
       " function_calls: 37\n",
       "     iterations: 35\n",
       "           root: 1.4928787086100783"
      ]
     },
     "execution_count": 16,
     "metadata": {},
     "output_type": "execute_result"
    }
   ],
   "source": [
    "ABiss = opt.root_scalar(f1,method = \"bisect\", bracket = [0,3], xtol = 1e-10)#Bisseção\n",
    "ABiss"
   ]
  },
  {
   "cell_type": "code",
   "execution_count": 17,
   "id": "6d940c38",
   "metadata": {},
   "outputs": [
    {
     "data": {
      "text/plain": [
       "{'Convergencia': True, 'Interações': 64, 'Root': 1.492878708406769}"
      ]
     },
     "execution_count": 17,
     "metadata": {},
     "output_type": "execute_result"
    }
   ],
   "source": [
    "AFalsaP = interpolacao(f1,0,3, 1e-10)#Falsa posição\n",
    "AFalsaP"
   ]
  },
  {
   "cell_type": "code",
   "execution_count": 18,
   "id": "b06cd48d",
   "metadata": {
    "scrolled": true
   },
   "outputs": [
    {
     "name": "stderr",
     "output_type": "stream",
     "text": [
      "<ipython-input-15-9a4956a23660>:8: RuntimeWarning: overflow encountered in double_scalars\n",
      "  return ((2*(x**4))+(4*(x**3))+(3*(x**2))-15)/10 #simplificada\n",
      "<ipython-input-2-abe29f83e94e>:10: RuntimeWarning: invalid value encountered in double_scalars\n",
      "  erro = np.abs((x1 - x0))/np.abs(x1)\n"
     ]
    },
    {
     "data": {
      "text/plain": [
       "{'Convergencia': False, 'Interações': 200, 'Root': inf}"
      ]
     },
     "execution_count": 18,
     "metadata": {},
     "output_type": "execute_result"
    }
   ],
   "source": [
    "APontoF = ponto_fixo(gf1,3,1e-10)#ponto fixo\n",
    "APontoF"
   ]
  },
  {
   "cell_type": "code",
   "execution_count": 19,
   "id": "5479a3f2",
   "metadata": {
    "scrolled": true
   },
   "outputs": [
    {
     "data": {
      "text/plain": [
       "      converged: True\n",
       "           flag: 'converged'\n",
       " function_calls: 14\n",
       "     iterations: 7\n",
       "           root: 1.4928787086636037"
      ]
     },
     "execution_count": 19,
     "metadata": {},
     "output_type": "execute_result"
    }
   ],
   "source": [
    "ANewton = opt.root_scalar(f1, fprime=f1i, x0=3, method='newton')#newton\n",
    "ANewton"
   ]
  },
  {
   "cell_type": "code",
   "execution_count": 20,
   "id": "c78e9007",
   "metadata": {
    "scrolled": true
   },
   "outputs": [
    {
     "data": {
      "text/plain": [
       "      converged: True\n",
       "           flag: 'converged'\n",
       " function_calls: 12\n",
       "     iterations: 11\n",
       "           root: -1.3003841326439196"
      ]
     },
     "execution_count": 20,
     "metadata": {},
     "output_type": "execute_result"
    }
   ],
   "source": [
    "ASecant = opt.root_scalar(f1, method='secant', x0=0, x1=3)#secante\n",
    "ASecant"
   ]
  },
  {
   "cell_type": "markdown",
   "id": "cbd99d82",
   "metadata": {},
   "source": [
    "Comparação de raizes:"
   ]
  },
  {
   "cell_type": "code",
   "execution_count": 21,
   "id": "f1e41ed3",
   "metadata": {},
   "outputs": [
    {
     "name": "stdout",
     "output_type": "stream",
     "text": [
      "----------Raizes---------- \n",
      "Bisseção : 1.4928787086100783\n",
      "Falsa Posição : 1.492878708406769\n",
      "Ponto fixo : inf\n",
      "Newton : 1.4928787086636037\n",
      "Secante : -1.3003841326439196\n"
     ]
    }
   ],
   "source": [
    "raizes = [ABiss.root,AFalsaP['Root'],APontoF['Root'],ANewton.root,ASecant.root]\n",
    "metodos = [\"Bisseção\",\"Falsa Posição\",\"Ponto fixo\",\"Newton\",\"Secante\"]\n",
    "print(\"----------Raizes---------- \")\n",
    "for i in range(len(raizes)):\n",
    "    print(metodos[i],\":\",raizes[i])"
   ]
  },
  {
   "cell_type": "markdown",
   "id": "c26b8150",
   "metadata": {},
   "source": [
    "Comparação de interações:"
   ]
  },
  {
   "cell_type": "code",
   "execution_count": 22,
   "id": "1558cdcd",
   "metadata": {},
   "outputs": [
    {
     "data": {
      "image/png": "[encoded data removed]",
      "text/plain": [
       "<Figure size 432x288 with 1 Axes>"
      ]
     },
     "metadata": {
      "needs_background": "light"
     },
     "output_type": "display_data"
    }
   ],
   "source": [
    "index = np.arange(5)\n",
    "plt.title(\"Comparação de metodos por quantidade de interação\")\n",
    "plt.bar([1,2,3,4,5],[ABiss.iterations,AFalsaP['Interações'],APontoF['Interações'],ANewton.iterations,ASecant.iterations],color = ['#FFD700','#696969','#00BFFF','#00FA9A','#8470FF'])\n",
    "plt.xticks(index+1, (\"Bisseção\",\"Falsa Posição\",\"Ponto fixo\",\"Newton\",\"Secante\"))\n",
    "plt.show()"
   ]
  },
  {
   "cell_type": "markdown",
   "id": "42b5daea",
   "metadata": {},
   "source": [
    "Comparação de convergencia:"
   ]
  },
  {
   "cell_type": "code",
   "execution_count": 23,
   "id": "0eec426a",
   "metadata": {
    "scrolled": true
   },
   "outputs": [
    {
     "name": "stdout",
     "output_type": "stream",
     "text": [
      "----------Convergencia---------- \n",
      "Bisseção : True\n",
      "Falsa Posição : True\n",
      "Ponto fixo : False\n",
      "Newton : True\n",
      "Secante : True\n"
     ]
    }
   ],
   "source": [
    "convergencia = [ABiss.converged,AFalsaP['Convergencia'],APontoF['Convergencia'],ANewton.converged,ASecant.converged]\n",
    "metodos = [\"Bisseção\",\"Falsa Posição\",\"Ponto fixo\",\"Newton\",\"Secante\"]\n",
    "print(\"----------Convergencia---------- \")\n",
    "for i in range(len(raizes)):\n",
    "    print(metodos[i],\":\",convergencia[i])"
   ]
  },
  {
   "cell_type": "markdown",
   "id": "dacd34cd",
   "metadata": {},
   "source": [
    "Tempo de calculo:"
   ]
  },
  {
   "cell_type": "code",
   "execution_count": 24,
   "id": "756cd79f",
   "metadata": {
    "scrolled": false
   },
   "outputs": [
    {
     "name": "stdout",
     "output_type": "stream",
     "text": [
      "36.3 ns ± 1.84 ns per loop (mean ± std. dev. of 7 runs, 10000000 loops each)\n",
      "37.1 ns ± 2.7 ns per loop (mean ± std. dev. of 7 runs, 10000000 loops each)\n",
      "35.8 ns ± 1.22 ns per loop (mean ± std. dev. of 7 runs, 10000000 loops each)\n",
      "32.7 ns ± 1.29 ns per loop (mean ± std. dev. of 7 runs, 10000000 loops each)\n",
      "36.3 ns ± 1.38 ns per loop (mean ± std. dev. of 7 runs, 10000000 loops each)\n"
     ]
    }
   ],
   "source": [
    "t1 = %timeit -o ABiss\n",
    "t2 = %timeit -o AFalsaP\n",
    "t3 = %timeit -o APontoF\n",
    "t4 = %timeit -o ANewton\n",
    "t5 = %timeit -o ASecant"
   ]
  },
  {
   "cell_type": "code",
   "execution_count": 25,
   "id": "f85edbca",
   "metadata": {},
   "outputs": [],
   "source": [
    "def calcualePorcent(tempo):\n",
    "    somaTempo = t1.best+t2.best+t3.best+t4.best+t5.best\n",
    "    media = somaTempo/5\n",
    "    listaPorcentagens = []\n",
    "    for x in tempo:\n",
    "        listaPorcentagens.append(x*100/media-100)\n",
    "    return listaPorcentagens"
   ]
  },
  {
   "cell_type": "code",
   "execution_count": 26,
   "id": "cacea293",
   "metadata": {
    "scrolled": false
   },
   "outputs": [
    {
     "name": "stdout",
     "output_type": "stream",
     "text": [
      "----------Porcentagem sobre a media do tempo---------- \n",
      "Bisseção : 1.2676417925381287 %\n",
      "Falsa Posição : 1.283039457334894 %\n",
      "Ponto fixo : 1.4516692021686595 %\n",
      "Newton : -8.27864233696657 %\n",
      "Secante : 4.276291884924859 %\n"
     ]
    }
   ],
   "source": [
    "porcent = calcualePorcent([t1.best,t2.best,t3.best,t4.best,t5.best])\n",
    "print(\"----------Porcentagem sobre a media do tempo---------- \")\n",
    "for i in range(len(porcent)):\n",
    "    print(metodos[i],\":\",porcent[i],\"%\")"
   ]
  },
  {
   "cell_type": "markdown",
   "id": "1a22dcfb",
   "metadata": {},
   "source": [
    "<h4>b)"
   ]
  },
  {
   "cell_type": "code",
   "execution_count": 27,
   "id": "58d2bb1c",
   "metadata": {},
   "outputs": [],
   "source": [
    "def f2(x):\n",
    "    return (x+3)*(x+1)*(x-2)**3\n",
    "\n",
    "def f2i(x):\n",
    "    return (2*x)*(x-2)**3+4*(x-2)**3+3*(x**4)-27*(x**2)+12*x+36 #derivada\n",
    "\n",
    "def gf2(x):\n",
    "    return (-3*(x**3)-6*(x**2)+18)/15 #simplificada\n"
   ]
  },
  {
   "cell_type": "code",
   "execution_count": 28,
   "id": "cb8eb615",
   "metadata": {},
   "outputs": [
    {
     "data": {
      "text/plain": [
       "      converged: True\n",
       "           flag: 'converged'\n",
       " function_calls: 38\n",
       "     iterations: 36\n",
       "           root: 2.0000000000436557"
      ]
     },
     "execution_count": 28,
     "metadata": {},
     "output_type": "execute_result"
    }
   ],
   "source": [
    "BBiss = opt.root_scalar(f2,method = \"bisect\", bracket = [0,5], xtol = 1e-10)#Bisseção\n",
    "BBiss"
   ]
  },
  {
   "cell_type": "code",
   "execution_count": 29,
   "id": "0f22e633",
   "metadata": {},
   "outputs": [
    {
     "data": {
      "text/plain": [
       "{'Convergencia': False, 'Interações': 200, 'Root': 1.714409136227646}"
      ]
     },
     "execution_count": 29,
     "metadata": {},
     "output_type": "execute_result"
    }
   ],
   "source": [
    "BFalsaP = interpolacao(f2,0,5, 1e-10)#Falsa posição\n",
    "BFalsaP"
   ]
  },
  {
   "cell_type": "code",
   "execution_count": 30,
   "id": "bde2f3a0",
   "metadata": {},
   "outputs": [
    {
     "name": "stderr",
     "output_type": "stream",
     "text": [
      "<ipython-input-27-30dc2d972614>:8: RuntimeWarning: overflow encountered in double_scalars\n",
      "  return (-3*(x**3)-6*(x**2)+18)/15 #simplificada\n",
      "<ipython-input-2-abe29f83e94e>:10: RuntimeWarning: invalid value encountered in double_scalars\n",
      "  erro = np.abs((x1 - x0))/np.abs(x1)\n"
     ]
    },
    {
     "data": {
      "text/plain": [
       "{'Convergencia': False, 'Interações': 200, 'Root': -inf}"
      ]
     },
     "execution_count": 30,
     "metadata": {},
     "output_type": "execute_result"
    }
   ],
   "source": [
    "BPontoF = ponto_fixo(gf2,5,1e-10)#ponto fixo\n",
    "BPontoF"
   ]
  },
  {
   "cell_type": "code",
   "execution_count": 31,
   "id": "61034bb0",
   "metadata": {},
   "outputs": [
    {
     "data": {
      "text/plain": [
       "      converged: True\n",
       "           flag: 'converged'\n",
       " function_calls: 94\n",
       "     iterations: 47\n",
       "           root: 2.0000000289562236"
      ]
     },
     "execution_count": 31,
     "metadata": {},
     "output_type": "execute_result"
    }
   ],
   "source": [
    "BNewton = opt.root_scalar(f2, fprime=f2i, x0=5, method='newton')#newton\n",
    "BNewton"
   ]
  },
  {
   "cell_type": "code",
   "execution_count": 32,
   "id": "185de7d5",
   "metadata": {},
   "outputs": [
    {
     "data": {
      "text/plain": [
       "      converged: False\n",
       "           flag: 'convergence error'\n",
       " function_calls: 52\n",
       "     iterations: 50\n",
       "           root: 2.0000006433369486"
      ]
     },
     "execution_count": 32,
     "metadata": {},
     "output_type": "execute_result"
    }
   ],
   "source": [
    "BSecant = opt.root_scalar(f2, method='secant', x0=0, x1=5)#secante\n",
    "BSecant"
   ]
  },
  {
   "cell_type": "markdown",
   "id": "ffd34a42",
   "metadata": {},
   "source": [
    "Comparação de raizes:"
   ]
  },
  {
   "cell_type": "code",
   "execution_count": 33,
   "id": "807f811d",
   "metadata": {
    "scrolled": false
   },
   "outputs": [
    {
     "name": "stdout",
     "output_type": "stream",
     "text": [
      "----------Raizes---------- \n",
      "Bisseção : 2.0000000000436557\n",
      "Falsa Posição : 1.714409136227646\n",
      "Ponto fixo : -inf\n",
      "Newton : 2.0000000289562236\n",
      "Secante : 2.0000006433369486\n"
     ]
    }
   ],
   "source": [
    "raizes = [BBiss.root,BFalsaP['Root'],BPontoF['Root'],BNewton.root,BSecant.root]\n",
    "metodos = [\"Bisseção\",\"Falsa Posição\",\"Ponto fixo\",\"Newton\",\"Secante\"]\n",
    "print(\"----------Raizes---------- \")\n",
    "for i in range(len(raizes)):\n",
    "    print(metodos[i],\":\",raizes[i])"
   ]
  },
  {
   "cell_type": "markdown",
   "id": "54f602af",
   "metadata": {},
   "source": [
    "Comparação de interações:"
   ]
  },
  {
   "cell_type": "code",
   "execution_count": 34,
   "id": "5cbba560",
   "metadata": {
    "scrolled": false
   },
   "outputs": [
    {
     "data": {
      "image/png": "[encoded data removed]",
      "text/plain": [
       "<Figure size 432x288 with 1 Axes>"
      ]
     },
     "metadata": {
      "needs_background": "light"
     },
     "output_type": "display_data"
    }
   ],
   "source": [
    "index = np.arange(5)\n",
    "plt.title(\"Comparação de metodos por quantidade de interação\")\n",
    "plt.bar([1,2,3,4,5],[BBiss.iterations,BFalsaP['Interações'],BPontoF['Interações'],BNewton.iterations,BSecant.iterations],color = ['#FFD700','#696969','#00BFFF','#00FA9A','#8470FF'])\n",
    "plt.xticks(index+1, (\"Bisseção\",\"Falsa Posição\",\"Ponto fixo\",\"Newton\",\"Secante\"))\n",
    "plt.show()"
   ]
  },
  {
   "cell_type": "markdown",
   "id": "7ef8ff8d",
   "metadata": {},
   "source": [
    "Comparação de convergencia:"
   ]
  },
  {
   "cell_type": "code",
   "execution_count": 35,
   "id": "b4ffac3a",
   "metadata": {
    "scrolled": true
   },
   "outputs": [
    {
     "name": "stdout",
     "output_type": "stream",
     "text": [
      "----------Convergencia---------- \n",
      "Bisseção : True\n",
      "Falsa Posição : False\n",
      "Ponto fixo : False\n",
      "Newton : True\n",
      "Secante : False\n"
     ]
    }
   ],
   "source": [
    "convergencia = [BBiss.converged,BFalsaP['Convergencia'],BPontoF['Convergencia'],BNewton.converged,BSecant.converged]\n",
    "metodos = [\"Bisseção\",\"Falsa Posição\",\"Ponto fixo\",\"Newton\",\"Secante\"]\n",
    "print(\"----------Convergencia---------- \")\n",
    "for i in range(len(raizes)):\n",
    "    print(metodos[i],\":\",convergencia[i])"
   ]
  },
  {
   "cell_type": "markdown",
   "id": "cd1d4425",
   "metadata": {},
   "source": [
    "Tempo de calculo:"
   ]
  },
  {
   "cell_type": "code",
   "execution_count": 36,
   "id": "098409af",
   "metadata": {
    "scrolled": false
   },
   "outputs": [
    {
     "name": "stdout",
     "output_type": "stream",
     "text": [
      "45.1 ns ± 1.18 ns per loop (mean ± std. dev. of 7 runs, 10000000 loops each)\n",
      "37.5 ns ± 2.02 ns per loop (mean ± std. dev. of 7 runs, 10000000 loops each)\n",
      "39.7 ns ± 1.64 ns per loop (mean ± std. dev. of 7 runs, 10000000 loops each)\n",
      "37 ns ± 1.25 ns per loop (mean ± std. dev. of 7 runs, 10000000 loops each)\n",
      "37.2 ns ± 1.75 ns per loop (mean ± std. dev. of 7 runs, 10000000 loops each)\n"
     ]
    }
   ],
   "source": [
    "t1B = %timeit -o BBiss\n",
    "t2B = %timeit -o BFalsaP\n",
    "t3B = %timeit -o BPontoF\n",
    "t4B = %timeit -o BNewton\n",
    "t5B = %timeit -o BSecant"
   ]
  },
  {
   "cell_type": "code",
   "execution_count": 37,
   "id": "0d59e172",
   "metadata": {},
   "outputs": [],
   "source": [
    "def calcualePorcent(tempo):\n",
    "    somaTempo = t1B.best+t2B.best+t3B.best+t4B.best+t5B.best\n",
    "    media = somaTempo/5\n",
    "    listaPorcentagens = []\n",
    "    for x in tempo:\n",
    "        listaPorcentagens.append(x*100/media-100)\n",
    "    return listaPorcentagens"
   ]
  },
  {
   "cell_type": "code",
   "execution_count": 38,
   "id": "4e75f308",
   "metadata": {
    "scrolled": true
   },
   "outputs": [
    {
     "name": "stdout",
     "output_type": "stream",
     "text": [
      "----------Porcentagem sobre a media do tempo---------- \n",
      "Bisseção : 15.932165034909843 %\n",
      "Falsa Posição : -5.211205548197384 %\n",
      "Ponto fixo : 0.4135856289977653 %\n",
      "Newton : -5.322835064926721 %\n",
      "Secante : -5.811710050783546 %\n"
     ]
    }
   ],
   "source": [
    "porcent = calcualePorcent([t1B.best,t2B.best,t3B.best,t4B.best,t5B.best])\n",
    "print(\"----------Porcentagem sobre a media do tempo---------- \")\n",
    "for i in range(len(porcent)):\n",
    "    print(metodos[i],\":\",porcent[i],\"%\")"
   ]
  },
  {
   "cell_type": "markdown",
   "id": "6bc340be",
   "metadata": {},
   "source": [
    "<h4>c) "
   ]
  },
  {
   "cell_type": "code",
   "execution_count": 39,
   "id": "da035a96",
   "metadata": {},
   "outputs": [],
   "source": [
    "def f3(x):\n",
    "    return 5 * x ** 3 + x ** 2 - np.exp(1 - 2 * x) + np.cos(x) + 20\n",
    "\n",
    "def f3i(x):\n",
    "    return 15 * x ** 2 + 2 * x + 2 * np.exp(-2 * x + 1) - np.sin(x)#derivada\n",
    "\n",
    "def gf3i(x):\n",
    "    return 5*x**3 + x**2 - np.e**(1-2*x) + np.cos(x) + 20 + x #simplificada"
   ]
  },
  {
   "cell_type": "code",
   "execution_count": 40,
   "id": "ac578124",
   "metadata": {
    "scrolled": true
   },
   "outputs": [
    {
     "data": {
      "text/plain": [
       "      converged: True\n",
       "           flag: 'converged'\n",
       " function_calls: 39\n",
       "     iterations: 37\n",
       "           root: -0.9295604598446516"
      ]
     },
     "execution_count": 40,
     "metadata": {},
     "output_type": "execute_result"
    }
   ],
   "source": [
    "CBiss = opt.root_scalar(f3,method = \"bisect\", bracket = [-5,5], xtol = 1e-10)#Bisseção\n",
    "CBiss"
   ]
  },
  {
   "cell_type": "code",
   "execution_count": 41,
   "id": "14e9ab81",
   "metadata": {},
   "outputs": [
    {
     "data": {
      "text/plain": [
       "{'Convergencia': False, 'Interações': 200, 'Root': 1.5687692610780033}"
      ]
     },
     "execution_count": 41,
     "metadata": {},
     "output_type": "execute_result"
    }
   ],
   "source": [
    "CFalsaP = interpolacao(f3,-5,5, 1e-10)#Falsa posição\n",
    "CFalsaP"
   ]
  },
  {
   "cell_type": "code",
   "execution_count": 42,
   "id": "6a7b3040",
   "metadata": {
    "scrolled": true
   },
   "outputs": [
    {
     "data": {
      "text/plain": [
       "{'Convergencia': True, 'Interações': 29, 'Root': 3.563160824729177}"
      ]
     },
     "execution_count": 42,
     "metadata": {},
     "output_type": "execute_result"
    }
   ],
   "source": [
    "CPontoF = ponto_fixo(gf3,5,1e-10)#ponto fixo\n",
    "CPontoF"
   ]
  },
  {
   "cell_type": "code",
   "execution_count": 43,
   "id": "2bbe003b",
   "metadata": {
    "scrolled": true
   },
   "outputs": [
    {
     "data": {
      "text/plain": [
       "      converged: True\n",
       "           flag: 'converged'\n",
       " function_calls: 22\n",
       "     iterations: 11\n",
       "           root: -0.9295604598378412"
      ]
     },
     "execution_count": 43,
     "metadata": {},
     "output_type": "execute_result"
    }
   ],
   "source": [
    "CNewton = opt.root_scalar(f3, fprime=f3i, x0=5, method='newton')#newton\n",
    "CNewton"
   ]
  },
  {
   "cell_type": "code",
   "execution_count": 44,
   "id": "1c5546a1",
   "metadata": {
    "scrolled": false
   },
   "outputs": [
    {
     "data": {
      "text/plain": [
       "      converged: True\n",
       "           flag: 'converged'\n",
       " function_calls: 24\n",
       "     iterations: 23\n",
       "           root: -0.9295604598378417"
      ]
     },
     "execution_count": 44,
     "metadata": {},
     "output_type": "execute_result"
    }
   ],
   "source": [
    "CSecant = opt.root_scalar(f3, method='secant', x0=-5, x1=5)#secante\n",
    "CSecant"
   ]
  },
  {
   "cell_type": "markdown",
   "id": "83be09ca",
   "metadata": {},
   "source": [
    "Comparação de raizes:"
   ]
  },
  {
   "cell_type": "code",
   "execution_count": 45,
   "id": "debde746",
   "metadata": {
    "scrolled": true
   },
   "outputs": [
    {
     "name": "stdout",
     "output_type": "stream",
     "text": [
      "----------Raizes---------- \n",
      "Bisseção : -0.9295604598446516\n",
      "Falsa Posição : 1.5687692610780033\n",
      "Ponto fixo : 3.563160824729177\n",
      "Newton : -0.9295604598378412\n",
      "Secante : -0.9295604598378417\n"
     ]
    }
   ],
   "source": [
    "raizes = [CBiss.root,CFalsaP['Root'],CPontoF['Root'],CNewton.root,CSecant.root]\n",
    "metodos = [\"Bisseção\",\"Falsa Posição\",\"Ponto fixo\",\"Newton\",\"Secante\"]\n",
    "print(\"----------Raizes---------- \")\n",
    "for i in range(len(raizes)):\n",
    "    print(metodos[i],\":\",raizes[i])"
   ]
  },
  {
   "cell_type": "markdown",
   "id": "fe95f053",
   "metadata": {},
   "source": [
    "Comparação de interações:"
   ]
  },
  {
   "cell_type": "code",
   "execution_count": 46,
   "id": "3698bf6d",
   "metadata": {
    "scrolled": true
   },
   "outputs": [
    {
     "data": {
      "image/png": "[encoded data removed]",
      "text/plain": [
       "<Figure size 432x288 with 1 Axes>"
      ]
     },
     "metadata": {
      "needs_background": "light"
     },
     "output_type": "display_data"
    }
   ],
   "source": [
    "index = np.arange(5)\n",
    "plt.title(\"Comparação de metodos por quantidade de interação\")\n",
    "plt.bar([1,2,3,4,5],[CBiss.iterations,CFalsaP['Interações'],CPontoF['Interações'],CNewton.iterations,CSecant.iterations],color = ['#FFD700','#696969','#00BFFF','#00FA9A','#8470FF'])\n",
    "plt.xticks(index+1, (\"Bisseção\",\"Falsa Posição\",\"Ponto fixo\",\"Newton\",\"Secante\"))\n",
    "plt.show()"
   ]
  },
  {
   "cell_type": "markdown",
   "id": "7d1646eb",
   "metadata": {},
   "source": [
    "Comparação de convergencia:"
   ]
  },
  {
   "cell_type": "code",
   "execution_count": 47,
   "id": "1f34d5c4",
   "metadata": {
    "scrolled": false
   },
   "outputs": [
    {
     "name": "stdout",
     "output_type": "stream",
     "text": [
      "----------Convergencia---------- \n",
      "Bisseção : True\n",
      "Falsa Posição : False\n",
      "Ponto fixo : True\n",
      "Newton : True\n",
      "Secante : True\n"
     ]
    }
   ],
   "source": [
    "convergencia = [CBiss.converged,CFalsaP['Convergencia'],CPontoF['Convergencia'],CNewton.converged,CSecant.converged]\n",
    "metodos = [\"Bisseção\",\"Falsa Posição\",\"Ponto fixo\",\"Newton\",\"Secante\"]\n",
    "print(\"----------Convergencia---------- \")\n",
    "for i in range(len(raizes)):\n",
    "    print(metodos[i],\":\",convergencia[i])"
   ]
  },
  {
   "cell_type": "markdown",
   "id": "abe6b0ab",
   "metadata": {},
   "source": [
    "Tempo de calculo:"
   ]
  },
  {
   "cell_type": "code",
   "execution_count": 48,
   "id": "a26a5bec",
   "metadata": {
    "scrolled": false
   },
   "outputs": [
    {
     "name": "stdout",
     "output_type": "stream",
     "text": [
      "42.4 ns ± 1.74 ns per loop (mean ± std. dev. of 7 runs, 10000000 loops each)\n",
      "40.3 ns ± 2.94 ns per loop (mean ± std. dev. of 7 runs, 10000000 loops each)\n",
      "46.3 ns ± 2.31 ns per loop (mean ± std. dev. of 7 runs, 10000000 loops each)\n",
      "47.3 ns ± 2.45 ns per loop (mean ± std. dev. of 7 runs, 10000000 loops each)\n",
      "43.1 ns ± 6.29 ns per loop (mean ± std. dev. of 7 runs, 10000000 loops each)\n"
     ]
    }
   ],
   "source": [
    "t1C = %timeit -o CBiss\n",
    "t2C = %timeit -o CFalsaP\n",
    "t3C = %timeit -o CPontoF\n",
    "t4C = %timeit -o CNewton\n",
    "t5C = %timeit -o CSecant"
   ]
  },
  {
   "cell_type": "code",
   "execution_count": 49,
   "id": "5f8c33e8",
   "metadata": {},
   "outputs": [],
   "source": [
    "def calcualePorcent(tempo):\n",
    "    somaTempo = t1C.best+t2C.best+t3C.best+t4C.best+t5C.best\n",
    "    media = somaTempo/5\n",
    "    listaPorcentagens = []\n",
    "    for x in tempo:\n",
    "        listaPorcentagens.append(x*100/media-100)\n",
    "    return listaPorcentagens"
   ]
  },
  {
   "cell_type": "code",
   "execution_count": 50,
   "id": "3f7c6ed8",
   "metadata": {
    "scrolled": true
   },
   "outputs": [
    {
     "name": "stdout",
     "output_type": "stream",
     "text": [
      "----------Porcentagem sobre a media do tempo---------- \n",
      "Bisseção : -0.6240021712157073 %\n",
      "Falsa Posição : -6.0281897213779985 %\n",
      "Ponto fixo : 6.979283226786748 %\n",
      "Newton : 7.182266226590798 %\n",
      "Secante : -7.509357560783798 %\n"
     ]
    }
   ],
   "source": [
    "porcent = calcualePorcent([t1C.best,t2C.best,t3C.best,t4C.best,t5C.best])\n",
    "print(\"----------Porcentagem sobre a media do tempo---------- \")\n",
    "for i in range(len(porcent)):\n",
    "    print(metodos[i],\":\",porcent[i],\"%\")"
   ]
  },
  {
   "cell_type": "markdown",
   "id": "8cc532d8",
   "metadata": {},
   "source": [
    "<h4>d)"
   ]
  },
  {
   "cell_type": "code",
   "execution_count": 51,
   "id": "7b78fea6",
   "metadata": {},
   "outputs": [],
   "source": [
    "def f4(x):\n",
    "    return np.sin(x)*x + 4\n",
    "\n",
    "def f4i(x):\n",
    "    return x*np.cos(x) + np.sin(x)#derivada\n",
    "\n",
    "def gf4i(x):\n",
    "    return (-4)/np.sin(x) #simplificada\n",
    "\n"
   ]
  },
  {
   "cell_type": "code",
   "execution_count": 52,
   "id": "1ec8193d",
   "metadata": {
    "scrolled": true
   },
   "outputs": [
    {
     "data": {
      "text/plain": [
       "      converged: True\n",
       "           flag: 'converged'\n",
       " function_calls: 38\n",
       "     iterations: 36\n",
       "           root: 4.323239543766249"
      ]
     },
     "execution_count": 52,
     "metadata": {},
     "output_type": "execute_result"
    }
   ],
   "source": [
    "DBiss = opt.root_scalar(f4,method = \"bisect\", bracket = [1,5], xtol = 1e-10)#Bisseção\n",
    "DBiss"
   ]
  },
  {
   "cell_type": "code",
   "execution_count": 53,
   "id": "177df2b0",
   "metadata": {},
   "outputs": [
    {
     "data": {
      "text/plain": [
       "{'Convergencia': True, 'Interações': 10, 'Root': 4.323239543714482}"
      ]
     },
     "execution_count": 53,
     "metadata": {},
     "output_type": "execute_result"
    }
   ],
   "source": [
    "DFalsaP = interpolacao(f4,1,5, 1e-10)#Falsa posição\n",
    "DFalsaP"
   ]
  },
  {
   "cell_type": "code",
   "execution_count": 54,
   "id": "31ae2b46",
   "metadata": {
    "scrolled": true
   },
   "outputs": [
    {
     "data": {
      "text/plain": [
       "{'Convergencia': False, 'Interações': 200, 'Root': 4.754662240490002}"
      ]
     },
     "execution_count": 54,
     "metadata": {},
     "output_type": "execute_result"
    }
   ],
   "source": [
    "DPontoF = ponto_fixo(gf4i,5,1e-10)#ponto fixo\n",
    "DPontoF"
   ]
  },
  {
   "cell_type": "code",
   "execution_count": 55,
   "id": "40e69900",
   "metadata": {
    "scrolled": true
   },
   "outputs": [
    {
     "data": {
      "text/plain": [
       "      converged: True\n",
       "           flag: 'converged'\n",
       " function_calls: 14\n",
       "     iterations: 7\n",
       "           root: 5.461308012588998"
      ]
     },
     "execution_count": 55,
     "metadata": {},
     "output_type": "execute_result"
    }
   ],
   "source": [
    "DNewton = opt.root_scalar(f4, fprime=f4i, x0=5, method='newton')#newton\n",
    "DNewton"
   ]
  },
  {
   "cell_type": "code",
   "execution_count": 56,
   "id": "6f57e5a4",
   "metadata": {
    "scrolled": false
   },
   "outputs": [
    {
     "data": {
      "text/plain": [
       "      converged: True\n",
       "           flag: 'converged'\n",
       " function_calls: 8\n",
       "     iterations: 7\n",
       "           root: 4.323239543713714"
      ]
     },
     "execution_count": 56,
     "metadata": {},
     "output_type": "execute_result"
    }
   ],
   "source": [
    "DSecant = opt.root_scalar(f4, method='secant', x0=1, x1=5)#secante\n",
    "DSecant"
   ]
  },
  {
   "cell_type": "markdown",
   "id": "b3fe25a0",
   "metadata": {},
   "source": [
    "Comparação de raizes:"
   ]
  },
  {
   "cell_type": "code",
   "execution_count": 57,
   "id": "e6d25405",
   "metadata": {
    "scrolled": true
   },
   "outputs": [
    {
     "name": "stdout",
     "output_type": "stream",
     "text": [
      "----------Raizes---------- \n",
      "Bisseção : 4.323239543766249\n",
      "Falsa Posição : 4.323239543714482\n",
      "Ponto fixo : 4.754662240490002\n",
      "Newton : 5.461308012588998\n",
      "Secante : 4.323239543713714\n"
     ]
    }
   ],
   "source": [
    "raizes = [DBiss.root,DFalsaP['Root'],DPontoF['Root'],DNewton.root,DSecant.root]\n",
    "metodos = [\"Bisseção\",\"Falsa Posição\",\"Ponto fixo\",\"Newton\",\"Secante\"]\n",
    "print(\"----------Raizes---------- \")\n",
    "for i in range(len(raizes)):\n",
    "    print(metodos[i],\":\",raizes[i])"
   ]
  },
  {
   "cell_type": "markdown",
   "id": "8c2978a3",
   "metadata": {},
   "source": [
    "Comparação de interações:"
   ]
  },
  {
   "cell_type": "code",
   "execution_count": 58,
   "id": "0bec3929",
   "metadata": {
    "scrolled": true
   },
   "outputs": [
    {
     "data": {
      "image/png": "[encoded data removed]",
      "text/plain": [
       "<Figure size 432x288 with 1 Axes>"
      ]
     },
     "metadata": {
      "needs_background": "light"
     },
     "output_type": "display_data"
    }
   ],
   "source": [
    "index = np.arange(5)\n",
    "plt.title(\"Comparação de metodos por quantidade de interação\")\n",
    "plt.bar([1,2,3,4,5],[DBiss.iterations,DFalsaP['Interações'],DPontoF['Interações'],DNewton.iterations,DSecant.iterations],color = ['#FFD700','#696969','#00BFFF','#00FA9A','#8470FF'])\n",
    "plt.xticks(index+1, (\"Bisseção\",\"Falsa Posição\",\"Ponto fixo\",\"Newton\",\"Secante\"))\n",
    "plt.show()"
   ]
  },
  {
   "cell_type": "markdown",
   "id": "eae70d00",
   "metadata": {},
   "source": [
    "Comparação de convergencia:"
   ]
  },
  {
   "cell_type": "code",
   "execution_count": 59,
   "id": "947ad4be",
   "metadata": {
    "scrolled": false
   },
   "outputs": [
    {
     "name": "stdout",
     "output_type": "stream",
     "text": [
      "----------Convergencia---------- \n",
      "Bisseção : True\n",
      "Falsa Posição : True\n",
      "Ponto fixo : False\n",
      "Newton : True\n",
      "Secante : True\n"
     ]
    }
   ],
   "source": [
    "convergencia = [DBiss.converged,DFalsaP['Convergencia'],DPontoF['Convergencia'],DNewton.converged,DSecant.converged]\n",
    "metodos = [\"Bisseção\",\"Falsa Posição\",\"Ponto fixo\",\"Newton\",\"Secante\"]\n",
    "print(\"----------Convergencia---------- \")\n",
    "for i in range(len(raizes)):\n",
    "    print(metodos[i],\":\",convergencia[i])"
   ]
  },
  {
   "cell_type": "markdown",
   "id": "8ef61f1b",
   "metadata": {},
   "source": [
    "Tempo de calculo:"
   ]
  },
  {
   "cell_type": "code",
   "execution_count": 60,
   "id": "73d84815",
   "metadata": {
    "scrolled": false
   },
   "outputs": [
    {
     "name": "stdout",
     "output_type": "stream",
     "text": [
      "37.8 ns ± 3.31 ns per loop (mean ± std. dev. of 7 runs, 10000000 loops each)\n",
      "39 ns ± 1.84 ns per loop (mean ± std. dev. of 7 runs, 10000000 loops each)\n",
      "43.4 ns ± 6.73 ns per loop (mean ± std. dev. of 7 runs, 10000000 loops each)\n",
      "44.5 ns ± 5.53 ns per loop (mean ± std. dev. of 7 runs, 10000000 loops each)\n",
      "44 ns ± 5.14 ns per loop (mean ± std. dev. of 7 runs, 10000000 loops each)\n"
     ]
    }
   ],
   "source": [
    "t1D = %timeit -o DBiss\n",
    "t2D = %timeit -o DFalsaP\n",
    "t3D = %timeit -o DPontoF\n",
    "t4D = %timeit -o DNewton\n",
    "t5D = %timeit -o DSecant"
   ]
  },
  {
   "cell_type": "code",
   "execution_count": 61,
   "id": "176bdc9a",
   "metadata": {},
   "outputs": [],
   "source": [
    "def calcualePorcent(tempo):\n",
    "    somaTempo = t1D.best+t2D.best+t3D.best+t4D.best+t5D.best\n",
    "    media = somaTempo/5\n",
    "    listaPorcentagens = []\n",
    "    for x in tempo:\n",
    "        listaPorcentagens.append(x*100/media-100)\n",
    "    return listaPorcentagens"
   ]
  },
  {
   "cell_type": "code",
   "execution_count": 62,
   "id": "2914d603",
   "metadata": {},
   "outputs": [
    {
     "name": "stdout",
     "output_type": "stream",
     "text": [
      "----------Porcentagem sobre a media do tempo---------- \n",
      "Bisseção : -4.776885097617594 %\n",
      "Falsa Posição : 3.643998689653742 %\n",
      "Ponto fixo : -0.6283884800771347 %\n",
      "Newton : 6.172225049448386 %\n",
      "Secante : -4.410950161407428 %\n"
     ]
    }
   ],
   "source": [
    "porcent = calcualePorcent([t1D.best,t2D.best,t3D.best,t4D.best,t5D.best])\n",
    "print(\"----------Porcentagem sobre a media do tempo---------- \")\n",
    "for i in range(len(porcent)):\n",
    "    print(metodos[i],\":\",porcent[i],\"%\")"
   ]
  },
  {
   "cell_type": "markdown",
   "id": "411b4078",
   "metadata": {},
   "source": [
    "<h4>e)"
   ]
  },
  {
   "cell_type": "code",
   "execution_count": 63,
   "id": "a66e1bc4",
   "metadata": {},
   "outputs": [],
   "source": [
    "def f5(x):\n",
    "    return (x-3)**5 * np.log(x) \n",
    "def f5i(x): \n",
    "    return 5*np.log(x)*(x-3)**4+(((x-3)**4)/x) #derivada\n",
    "def gf5i(x): \n",
    "    return (x-3)**5 * np.log(x) + x #simplificada\n"
   ]
  },
  {
   "cell_type": "code",
   "execution_count": 64,
   "id": "ba142923",
   "metadata": {},
   "outputs": [
    {
     "data": {
      "text/plain": [
       "      converged: True\n",
       "           flag: 'converged'\n",
       " function_calls: 37\n",
       "     iterations: 35\n",
       "           root: 3.000000000029104"
      ]
     },
     "execution_count": 64,
     "metadata": {},
     "output_type": "execute_result"
    }
   ],
   "source": [
    "EBiss = opt.root_scalar(f5,method = \"bisect\", bracket = [2,5], xtol = 1e-10)#Bisseção\n",
    "EBiss"
   ]
  },
  {
   "cell_type": "code",
   "execution_count": 65,
   "id": "0f897bcd",
   "metadata": {},
   "outputs": [
    {
     "data": {
      "text/plain": [
       "{'Convergencia': False, 'Interações': 200, 'Root': 2.5939097642054603}"
      ]
     },
     "execution_count": 65,
     "metadata": {},
     "output_type": "execute_result"
    }
   ],
   "source": [
    "EFalsaP = interpolacao(f5,2,5, 1e-10)#Falsa posição\n",
    "EFalsaP"
   ]
  },
  {
   "cell_type": "code",
   "execution_count": 66,
   "id": "3a92db77",
   "metadata": {
    "scrolled": true
   },
   "outputs": [
    {
     "data": {
      "text/plain": [
       "{'Convergencia': False, 'Interações': 200, 'Root': 2.8977509434951516}"
      ]
     },
     "execution_count": 66,
     "metadata": {},
     "output_type": "execute_result"
    }
   ],
   "source": [
    "EPontoF = ponto_fixo(gf5i,2.9,1e-10)#ponto fixo\n",
    "EPontoF"
   ]
  },
  {
   "cell_type": "code",
   "execution_count": 67,
   "id": "2cd79699",
   "metadata": {
    "scrolled": true
   },
   "outputs": [
    {
     "data": {
      "text/plain": [
       "      converged: False\n",
       "           flag: 'convergence error'\n",
       " function_calls: 100\n",
       "     iterations: 50\n",
       "           root: 2.9999970833079606"
      ]
     },
     "execution_count": 67,
     "metadata": {},
     "output_type": "execute_result"
    }
   ],
   "source": [
    "ENewton = opt.root_scalar(f5, fprime=f5i, x0=2.9, method='newton')#newton\n",
    "ENewton"
   ]
  },
  {
   "cell_type": "code",
   "execution_count": 68,
   "id": "a8092040",
   "metadata": {
    "scrolled": false
   },
   "outputs": [
    {
     "data": {
      "text/plain": [
       "      converged: False\n",
       "           flag: 'convergence error'\n",
       " function_calls: 52\n",
       "     iterations: 50\n",
       "           root: 2.9995245717240695"
      ]
     },
     "execution_count": 68,
     "metadata": {},
     "output_type": "execute_result"
    }
   ],
   "source": [
    "ESecant = opt.root_scalar(f5, method='secant', x0=2, x1=5)#secante\n",
    "ESecant"
   ]
  },
  {
   "cell_type": "markdown",
   "id": "86b2e4ab",
   "metadata": {},
   "source": [
    "Comparação de raizes:"
   ]
  },
  {
   "cell_type": "code",
   "execution_count": 69,
   "id": "e6d5ce41",
   "metadata": {
    "scrolled": true
   },
   "outputs": [
    {
     "name": "stdout",
     "output_type": "stream",
     "text": [
      "----------Raizes---------- \n",
      "Bisseção : 3.000000000029104\n",
      "Falsa Posição : 2.5939097642054603\n",
      "Ponto fixo : 2.8977509434951516\n",
      "Newton : 2.9999970833079606\n",
      "Secante : 2.9995245717240695\n"
     ]
    }
   ],
   "source": [
    "raizes = [EBiss.root,EFalsaP['Root'],EPontoF['Root'],ENewton.root,ESecant.root]\n",
    "metodos = [\"Bisseção\",\"Falsa Posição\",\"Ponto fixo\",\"Newton\",\"Secante\"]\n",
    "print(\"----------Raizes---------- \")\n",
    "for i in range(len(raizes)):\n",
    "    print(metodos[i],\":\",raizes[i])"
   ]
  },
  {
   "cell_type": "markdown",
   "id": "e42d6f7d",
   "metadata": {},
   "source": [
    "Comparação de interações:"
   ]
  },
  {
   "cell_type": "code",
   "execution_count": 70,
   "id": "62090669",
   "metadata": {
    "scrolled": true
   },
   "outputs": [
    {
     "data": {
      "image/png": "[encoded data removed]",
      "text/plain": [
       "<Figure size 432x288 with 1 Axes>"
      ]
     },
     "metadata": {
      "needs_background": "light"
     },
     "output_type": "display_data"
    }
   ],
   "source": [
    "index = np.arange(5)\n",
    "plt.title(\"Comparação de metodos por quantidade de interação\")\n",
    "plt.bar([1,2,3,4,5],[EBiss.iterations,EFalsaP['Interações'],EPontoF['Interações'],ENewton.iterations,ESecant.iterations],color = ['#FFD700','#696969','#00BFFF','#00FA9A','#8470FF'])\n",
    "plt.xticks(index+1, (\"Bisseção\",\"Falsa Posição\",\"Ponto fixo\",\"Newton\",\"Secante\"))\n",
    "plt.show()"
   ]
  },
  {
   "cell_type": "markdown",
   "id": "e61111f8",
   "metadata": {},
   "source": [
    "Comparação de convergencia:"
   ]
  },
  {
   "cell_type": "code",
   "execution_count": 71,
   "id": "58f99f8d",
   "metadata": {
    "scrolled": false
   },
   "outputs": [
    {
     "name": "stdout",
     "output_type": "stream",
     "text": [
      "----------Convergencia---------- \n",
      "Bisseção : True\n",
      "Falsa Posição : False\n",
      "Ponto fixo : False\n",
      "Newton : False\n",
      "Secante : False\n"
     ]
    }
   ],
   "source": [
    "convergencia = [EBiss.converged,EFalsaP['Convergencia'],EPontoF['Convergencia'],ENewton.converged,ESecant.converged]\n",
    "metodos = [\"Bisseção\",\"Falsa Posição\",\"Ponto fixo\",\"Newton\",\"Secante\"]\n",
    "print(\"----------Convergencia---------- \")\n",
    "for i in range(len(raizes)):\n",
    "    print(metodos[i],\":\",convergencia[i])"
   ]
  },
  {
   "cell_type": "markdown",
   "id": "09383781",
   "metadata": {},
   "source": [
    "Tempo de calculo:"
   ]
  },
  {
   "cell_type": "code",
   "execution_count": 72,
   "id": "8b952a68",
   "metadata": {
    "scrolled": false
   },
   "outputs": [
    {
     "name": "stdout",
     "output_type": "stream",
     "text": [
      "44 ns ± 12.4 ns per loop (mean ± std. dev. of 7 runs, 10000000 loops each)\n",
      "40.7 ns ± 4.61 ns per loop (mean ± std. dev. of 7 runs, 10000000 loops each)\n",
      "36.5 ns ± 1.55 ns per loop (mean ± std. dev. of 7 runs, 10000000 loops each)\n",
      "36.7 ns ± 1.74 ns per loop (mean ± std. dev. of 7 runs, 10000000 loops each)\n",
      "36.1 ns ± 5.81 ns per loop (mean ± std. dev. of 7 runs, 10000000 loops each)\n"
     ]
    }
   ],
   "source": [
    "t1E = %timeit -o EBiss\n",
    "t2E = %timeit -o EFalsaP\n",
    "t3E = %timeit -o EPontoF\n",
    "t4E = %timeit -o ENewton\n",
    "t5E = %timeit -o ESecant"
   ]
  },
  {
   "cell_type": "code",
   "execution_count": 73,
   "id": "ccaaf2d6",
   "metadata": {},
   "outputs": [],
   "source": [
    "def calcualePorcent(tempo):\n",
    "    somaTempo = t1E.best+t2E.best+t3E.best+t4E.best+t5E.best\n",
    "    media = somaTempo/5\n",
    "    listaPorcentagens = []\n",
    "    for x in tempo:\n",
    "        listaPorcentagens.append(x*100/media-100)\n",
    "    return listaPorcentagens"
   ]
  },
  {
   "cell_type": "code",
   "execution_count": 74,
   "id": "6372e689",
   "metadata": {
    "scrolled": false
   },
   "outputs": [
    {
     "name": "stdout",
     "output_type": "stream",
     "text": [
      "----------Porcentagem sobre a media do tempo---------- \n",
      "Bisseção : -2.6180777489074387 %\n",
      "Falsa Posição : -2.915060964768415 %\n",
      "Ponto fixo : 2.1578822490289014 %\n",
      "Newton : 5.45782832216365 %\n",
      "Secante : -2.0825718575166547 %\n"
     ]
    }
   ],
   "source": [
    "porcent = calcualePorcent([t1E.best,t2E.best,t3E.best,t4E.best,t5E.best])\n",
    "print(\"----------Porcentagem sobre a media do tempo---------- \")\n",
    "for i in range(len(porcent)):\n",
    "    print(metodos[i],\":\",porcent[i],\"%\")"
   ]
  },
  {
   "cell_type": "markdown",
   "id": "92408b46",
   "metadata": {},
   "source": [
    "<h4>f)"
   ]
  },
  {
   "cell_type": "code",
   "execution_count": 75,
   "id": "fbe7bbf4",
   "metadata": {},
   "outputs": [],
   "source": [
    "def f6(x):\n",
    "    return x**10 - 1\n",
    "\n",
    "def f6i(x):\n",
    "    return 10*x**9 #derivada\n",
    "\n",
    "def gf6i(x):\n",
    "    return 1/(x)**9 #simplificada\n"
   ]
  },
  {
   "cell_type": "code",
   "execution_count": 76,
   "id": "ec8e3474",
   "metadata": {},
   "outputs": [
    {
     "data": {
      "text/plain": [
       "      converged: True\n",
       "           flag: 'converged'\n",
       " function_calls: 3\n",
       "     iterations: 1\n",
       "           root: 1.0"
      ]
     },
     "execution_count": 76,
     "metadata": {},
     "output_type": "execute_result"
    }
   ],
   "source": [
    "FBiss = opt.root_scalar(f6,method = \"bisect\", bracket = [0.8,1.2], xtol = 1e-10)#Bisseção\n",
    "FBiss"
   ]
  },
  {
   "cell_type": "code",
   "execution_count": 77,
   "id": "06886f0d",
   "metadata": {},
   "outputs": [
    {
     "data": {
      "text/plain": [
       "{'Convergencia': True, 'Interações': 45, 'Root': 0.9999999999002991}"
      ]
     },
     "execution_count": 77,
     "metadata": {},
     "output_type": "execute_result"
    }
   ],
   "source": [
    "FFalsaP = interpolacao(f6,0.8,1.2, 1e-10)#Falsa posição\n",
    "FFalsaP"
   ]
  },
  {
   "cell_type": "code",
   "execution_count": 78,
   "id": "a3f130e0",
   "metadata": {},
   "outputs": [
    {
     "data": {
      "text/plain": [
       "{'Convergencia': True, 'Interações': 1, 'Root': 1.0}"
      ]
     },
     "execution_count": 78,
     "metadata": {},
     "output_type": "execute_result"
    }
   ],
   "source": [
    "FPontoF = ponto_fixo(gf6i,1,1e-10)#ponto fixo\n",
    "FPontoF"
   ]
  },
  {
   "cell_type": "code",
   "execution_count": 79,
   "id": "8028eb2a",
   "metadata": {
    "scrolled": true
   },
   "outputs": [
    {
     "data": {
      "text/plain": [
       "      converged: True\n",
       "           flag: 'converged'\n",
       " function_calls: 20\n",
       "     iterations: 10\n",
       "           root: 1.0"
      ]
     },
     "execution_count": 79,
     "metadata": {},
     "output_type": "execute_result"
    }
   ],
   "source": [
    "FNewton = opt.root_scalar(f6, fprime=f6i, x0=0.8, method='newton')#newton\n",
    "FNewton"
   ]
  },
  {
   "cell_type": "code",
   "execution_count": 80,
   "id": "36cd282b",
   "metadata": {
    "scrolled": false
   },
   "outputs": [
    {
     "data": {
      "text/plain": [
       "      converged: True\n",
       "           flag: 'converged'\n",
       " function_calls: 11\n",
       "     iterations: 10\n",
       "           root: 0.9999999999999333"
      ]
     },
     "execution_count": 80,
     "metadata": {},
     "output_type": "execute_result"
    }
   ],
   "source": [
    "FSecant = opt.root_scalar(f6, method='secant', x0=0.8, x1=1.2)#secante\n",
    "FSecant"
   ]
  },
  {
   "cell_type": "markdown",
   "id": "33535711",
   "metadata": {},
   "source": [
    "Comparação de raizes:"
   ]
  },
  {
   "cell_type": "code",
   "execution_count": 81,
   "id": "d080933b",
   "metadata": {
    "scrolled": true
   },
   "outputs": [
    {
     "name": "stdout",
     "output_type": "stream",
     "text": [
      "----------Raizes---------- \n",
      "Bisseção : 1.0\n",
      "Falsa Posição : 0.9999999999002991\n",
      "Ponto fixo : 1.0\n",
      "Newton : 1.0\n",
      "Secante : 0.9999999999999333\n"
     ]
    }
   ],
   "source": [
    "raizes = [FBiss.root,FFalsaP['Root'],FPontoF['Root'],FNewton.root,FSecant.root]\n",
    "metodos = [\"Bisseção\",\"Falsa Posição\",\"Ponto fixo\",\"Newton\",\"Secante\"]\n",
    "print(\"----------Raizes---------- \")\n",
    "for i in range(len(raizes)):\n",
    "    print(metodos[i],\":\",raizes[i])"
   ]
  },
  {
   "cell_type": "markdown",
   "id": "f91d7706",
   "metadata": {},
   "source": [
    "Comparação de interações:"
   ]
  },
  {
   "cell_type": "code",
   "execution_count": 82,
   "id": "13913853",
   "metadata": {
    "scrolled": true
   },
   "outputs": [
    {
     "data": {
      "image/png": "[encoded data removed]",
      "text/plain": [
       "<Figure size 432x288 with 1 Axes>"
      ]
     },
     "metadata": {
      "needs_background": "light"
     },
     "output_type": "display_data"
    }
   ],
   "source": [
    "index = np.arange(5)\n",
    "plt.title(\"Comparação de metodos por quantidade de interação\")\n",
    "plt.bar([1,2,3,4,5],[FBiss.iterations,FFalsaP['Interações'],FPontoF['Interações'],FNewton.iterations,FSecant.iterations],color = ['#FFD700','#696969','#00BFFF','#00FA9A','#8470FF'])\n",
    "plt.xticks(index+1, (\"Bisseção\",\"Falsa Posição\",\"Ponto fixo\",\"Newton\",\"Secante\"))\n",
    "plt.show()"
   ]
  },
  {
   "cell_type": "markdown",
   "id": "2a8ef95f",
   "metadata": {},
   "source": [
    "Comparação de convergencia:"
   ]
  },
  {
   "cell_type": "code",
   "execution_count": 83,
   "id": "6945d6f0",
   "metadata": {
    "scrolled": false
   },
   "outputs": [
    {
     "name": "stdout",
     "output_type": "stream",
     "text": [
      "----------Convergencia---------- \n",
      "Bisseção : True\n",
      "Falsa Posição : True\n",
      "Ponto fixo : True\n",
      "Newton : True\n",
      "Secante : True\n"
     ]
    }
   ],
   "source": [
    "convergencia = [FBiss.converged,FFalsaP['Convergencia'],FPontoF['Convergencia'],FNewton.converged,FSecant.converged]\n",
    "metodos = [\"Bisseção\",\"Falsa Posição\",\"Ponto fixo\",\"Newton\",\"Secante\"]\n",
    "print(\"----------Convergencia---------- \")\n",
    "for i in range(len(raizes)):\n",
    "    print(metodos[i],\":\",convergencia[i])"
   ]
  },
  {
   "cell_type": "markdown",
   "id": "ef2cfff6",
   "metadata": {},
   "source": [
    "Tempo de calculo:"
   ]
  },
  {
   "cell_type": "code",
   "execution_count": 84,
   "id": "917bfa45",
   "metadata": {
    "scrolled": false
   },
   "outputs": [
    {
     "name": "stdout",
     "output_type": "stream",
     "text": [
      "33.6 ns ± 2.07 ns per loop (mean ± std. dev. of 7 runs, 10000000 loops each)\n",
      "38.9 ns ± 3.99 ns per loop (mean ± std. dev. of 7 runs, 10000000 loops each)\n",
      "32.6 ns ± 0.647 ns per loop (mean ± std. dev. of 7 runs, 10000000 loops each)\n",
      "35.8 ns ± 1.27 ns per loop (mean ± std. dev. of 7 runs, 10000000 loops each)\n",
      "38.1 ns ± 2.62 ns per loop (mean ± std. dev. of 7 runs, 10000000 loops each)\n"
     ]
    }
   ],
   "source": [
    "t1F = %timeit -o FBiss\n",
    "t2F = %timeit -o FFalsaP\n",
    "t3F = %timeit -o FPontoF\n",
    "t4F = %timeit -o FNewton\n",
    "t5F = %timeit -o FSecant"
   ]
  },
  {
   "cell_type": "code",
   "execution_count": 85,
   "id": "061c14f8",
   "metadata": {},
   "outputs": [],
   "source": [
    "def calcualePorcent(tempo):\n",
    "    somaTempo = t1F.best+t2F.best+t3F.best+t4F.best+t5F.best\n",
    "    media = somaTempo/5\n",
    "    listaPorcentagens = []\n",
    "    for x in tempo:\n",
    "        listaPorcentagens.append(x*100/media-100)\n",
    "    return listaPorcentagens"
   ]
  },
  {
   "cell_type": "code",
   "execution_count": 86,
   "id": "10ccc2f1",
   "metadata": {
    "scrolled": false
   },
   "outputs": [
    {
     "name": "stdout",
     "output_type": "stream",
     "text": [
      "----------Porcentagem sobre a media do tempo---------- \n",
      "Bisseção : -7.654455049163019 %\n",
      "Falsa Posição : 4.837722141986859 %\n",
      "Ponto fixo : -6.197775479808769 %\n",
      "Newton : 2.6284457838836204 %\n",
      "Secante : 6.3860626031012515 %\n"
     ]
    }
   ],
   "source": [
    "porcent = calcualePorcent([t1F.best,t2F.best,t3F.best,t4F.best,t5F.best])\n",
    "print(\"----------Porcentagem sobre a media do tempo---------- \")\n",
    "for i in range(len(porcent)):\n",
    "    print(metodos[i],\":\",porcent[i],\"%\")"
   ]
  }
 ],
 "metadata": {
  "kernelspec": {
   "display_name": "Python 3",
   "language": "python",
   "name": "python3"
  },
  "language_info": {
   "codemirror_mode": {
    "name": "ipython",
    "version": 3
   },
   "file_extension": ".py",
   "mimetype": "text/x-python",
   "name": "python",
   "nbconvert_exporter": "python",
   "pygments_lexer": "ipython3",
   "version": "3.8.8"
  }
 },
 "nbformat": 4,
 "nbformat_minor": 5
}
