{
 "cells": [
  {
   "cell_type": "markdown",
   "id": "fdb64405",
   "metadata": {},
   "source": [
    "<div class=\"alert alert-block alert-info\">\n",
    "<center>Métodos Numericos</center>\n",
    "<center>LISTA 3a</center>\n",
    "<center>ALUNO: João Pedro de Sousa Corrêa</center>\n",
    "</div>"
   ]
  },
  {
   "cell_type": "code",
   "execution_count": 26,
   "id": "03f1ec86",
   "metadata": {},
   "outputs": [],
   "source": [
    "import numpy as np\n",
    "import matplotlib.pyplot as plt "
   ]
  },
  {
   "cell_type": "markdown",
   "id": "b767277c",
   "metadata": {},
   "source": [
    "\n",
    "<div class=\"alert alert-block alert-info\">\n",
    "    <h3>• Exercício 1.1</h3> O método “divisão e média”, um método antigo para estimação de raiz\n",
    "quadrada de um número positivo a, pode ser formulado como\n",
    "    $$ x_{i+1} =\\frac{ x_i + a/x_i}{2} \n",
    "$$\n",
    "    Calcule o erro relativo da aproximação para as 10 primeiras iterações\n",
    "</div>"
   ]
  },
  {
   "cell_type": "code",
   "execution_count": 25,
   "id": "ce969214",
   "metadata": {},
   "outputs": [
    {
     "name": "stdout",
     "output_type": "stream",
     "text": [
      "Usando 0 termo: 1.0\n",
      "Usando 1 termo: 1.5\n",
      "Usando 2 termo: 1.75\n",
      "Usando 3 termo: 2.017857142857143\n",
      "Usando 4 termo: 2.2478666245259165\n",
      "Usando 5 termo: 2.458532067930996\n",
      "Usando 6 termo: 2.652879760893804\n",
      "Usando 7 termo: 2.8342353180555504\n",
      "Usando 8 termo: 3.004847503241015\n",
      "Usando 9 termo: 3.166401705445792\n",
      "\n",
      "Usando a Numpy: 7.38905609893065\n"
     ]
    }
   ],
   "source": [
    "i = 0\n",
    "x = 1\n",
    "l = []\n",
    "for a in range(1,11):\n",
    "    \n",
    "    \n",
    "    x = (x + (a/x))/2\n",
    "    print(f'Usando {i} termo: {x}')\n",
    "    i+=1\n",
    "    l.append(x)\n",
    "    \n",
    "print(f'\\nUsando a Numpy: {np.exp(2)}')"
   ]
  },
  {
   "cell_type": "code",
   "execution_count": 26,
   "id": "d0ae22a6",
   "metadata": {},
   "outputs": [
    {
     "data": {
      "text/plain": [
       "array([1.        , 1.5       , 1.75      , 2.01785714, 2.24786662,\n",
       "       2.45853207, 2.65287976, 2.83423532, 3.0048475 , 3.16640171])"
      ]
     },
     "execution_count": 26,
     "metadata": {},
     "output_type": "execute_result"
    }
   ],
   "source": [
    "val = np.array(l)\n",
    "val"
   ]
  },
  {
   "cell_type": "code",
   "execution_count": 27,
   "id": "2ae2d841",
   "metadata": {},
   "outputs": [],
   "source": [
    "erro = np.abs(np.diff(val)/val[0:9])"
   ]
  },
  {
   "cell_type": "code",
   "execution_count": 28,
   "id": "0f1a8cf7",
   "metadata": {},
   "outputs": [
    {
     "data": {
      "text/plain": [
       "array([0.5       , 0.16666667, 0.15306122, 0.113987  , 0.09371795,\n",
       "       0.0790503 , 0.06836177, 0.0601969 , 0.05376453])"
      ]
     },
     "execution_count": 28,
     "metadata": {},
     "output_type": "execute_result"
    }
   ],
   "source": [
    "erro"
   ]
  },
  {
   "cell_type": "markdown",
   "id": "d8dbc10f",
   "metadata": {},
   "source": [
    "\n",
    "<div class=\"alert alert-block alert-info\">\n",
    "    <h3>• Exercício 1.2</h3> \n",
    "    <p>O Para computadores, o épsilon da máquina, ε, pode ser definido como o menor\n",
    "número que, adicionado a um, retorna um número maior que um, como definimos anteriormente.\n",
    "Usando o algoritmo abaixo, implemente um programa que calcula o épsilon da sua máquina.\n",
    "Compare com os resultados obtidos via numpy.</p>\n",
    "\n",
    "<p>Passo 1: Defina e = 1</p>\n",
    "<p>Passo 2: Se 1 + e for menor ou igual a 1, vá para o Passo 5;</p>\n",
    "<p>caso contrário, vá ao Passo 3</p>\n",
    "<p>Passo 3: e = e/2</p>\n",
    "<p>Passo 4: Retorne ao Passo 2</p>\n",
    "    <p>Passo 5: e = 2 x e</p>\n",
    "\n",
    "</div>"
   ]
  },
  {
   "cell_type": "code",
   "execution_count": 30,
   "id": "29f2cff6",
   "metadata": {},
   "outputs": [
    {
     "data": {
      "text/plain": [
       "2.220446049250313e-16"
      ]
     },
     "execution_count": 30,
     "metadata": {},
     "output_type": "execute_result"
    }
   ],
   "source": [
    "e = 1\n",
    "while (True):\n",
    "    if e + 1 <= 1:\n",
    "        e = 2*e\n",
    "        break\n",
    "    else:\n",
    "        e = e/2\n",
    "e        "
   ]
  },
  {
   "cell_type": "code",
   "execution_count": 34,
   "id": "9d119605",
   "metadata": {},
   "outputs": [
    {
     "name": "stdout",
     "output_type": "stream",
     "text": [
      "2.220446049250313e-16\n"
     ]
    }
   ],
   "source": [
    "print(np.finfo(float).eps)"
   ]
  },
  {
   "cell_type": "markdown",
   "id": "26e39ca8",
   "metadata": {},
   "source": [
    "\n",
    "<div class=\"alert alert-block alert-info\">\n",
    "    <h3>• Exercício 1.3</h3> \n",
    "    <p>Considere o seguinte processo iterativo:</p>\n",
    "      $$ x^{(1)} = \\frac{ 1}{3} \n",
    "$$\n",
    "          $$ x^{(n+1)} = 4x^{(1)} - 1, n = 1,2,... \n",
    "$$\n",
    "    \n",
    "<p>Observe que $ x^{(1)} = \\frac{ 1}{3}, x^{(2)} =4 \\frac{ 1}{3} -1 = \\frac{ 1}{3} , x^{(3)} =4 \\frac{ 1}{3} -1 = \\frac{ 1}{3},  $ e por aí vai, ou seja, temos\n",
    "uma sequência constante igual a $ \\frac{ 1}{3}$.</p>\n",
    "    <p>Implemente essa série iterativa, verificando se a convergência de fato ocorre e justifique\n",
    "o resultado obtido.</p>\n",
    "\n",
    "\n",
    "</div>"
   ]
  },
  {
   "cell_type": "code",
   "execution_count": 46,
   "id": "dfb191bc",
   "metadata": {},
   "outputs": [
    {
     "name": "stdout",
     "output_type": "stream",
     "text": [
      "x2 : 0.5773502691896257\n",
      "x3 : 0.6933612743506347\n",
      "x4 : 0.7598356856515925\n",
      "x5 : 0.8027415617602306\n",
      "x6 : 0.8326831776556043\n",
      "x7 : 0.8547513999071522\n",
      "x8 : 0.8716855428717356\n",
      "x9 : 0.8850881520714602\n",
      "x10 : 0.8959584598407622\n",
      "x11 : 0.9049515755219304\n"
     ]
    }
   ],
   "source": [
    "x1 = 1/3\n",
    "for n in range(1,11):\n",
    "    \n",
    "    \n",
    "    x = (4*x1 - 1)**(1/(n+1))\n",
    "    \n",
    "    print(f'x{n+1} : {x}')\n",
    "\n",
    "\n"
   ]
  },
  {
   "cell_type": "code",
   "execution_count": null,
   "id": "97c19370",
   "metadata": {},
   "outputs": [],
   "source": [
    "Não ocorre a convergência, porque a potencia de x passa para o outro lado como inverso da  potencia de x."
   ]
  },
  {
   "cell_type": "markdown",
   "id": "5fb4730e",
   "metadata": {},
   "source": [
    "\n",
    "<div class=\"alert alert-block alert-info\">\n",
    "    <h3>• Exercício 1.4</h3> \n",
    "    <p>Considere as expressões: \n",
    "    $$ \\frac{ \\exp(1/µ)\n",
    "}{1 + \\exp(1/µ)\n",
    "} \n",
    "$$\n",
    "        e\n",
    "            $$ \\frac{ 1}{\\exp(−1/µ) + 1 )\n",
    "} \n",
    "$$    </p>\n",
    "    <p> com µ > 0. Verifique que elas são idênticas como funções reais. Teste no computador cada\n",
    "uma delas para µ = 0, 1, µ = 0, 01, µ = 0, 001 ou menor e responda: Qual dessas expressões é\n",
    "mais adequada quando µ é um número pequeno? Por quê?</p>\n",
    "    \n",
    "\n",
    "\n",
    "</div>"
   ]
  },
  {
   "cell_type": "code",
   "execution_count": 41,
   "id": "92a45ad2",
   "metadata": {
    "scrolled": true
   },
   "outputs": [
    {
     "name": "stdout",
     "output_type": "stream",
     "text": [
      "u(0.1) = 0.9999546021312976\n",
      "u(0.01) = 1.0\n",
      "u(0.001) = nan\n"
     ]
    },
    {
     "name": "stderr",
     "output_type": "stream",
     "text": [
      "<ipython-input-41-14a8e048bf42>:5: RuntimeWarning: overflow encountered in exp\n",
      "  x = np.exp((1/u[i])) /( 1 + np.exp((1/u[i])))\n",
      "<ipython-input-41-14a8e048bf42>:5: RuntimeWarning: invalid value encountered in double_scalars\n",
      "  x = np.exp((1/u[i])) /( 1 + np.exp((1/u[i])))\n"
     ]
    }
   ],
   "source": [
    "u = [0.1, 0.01, 0.001]\n",
    "for i in range(len(u)):\n",
    "    \n",
    "    \n",
    "    x = np.exp((1/u[i])) /( 1 + np.exp((1/u[i])))\n",
    "    print(f'u({u[i]}) =',x)"
   ]
  },
  {
   "cell_type": "code",
   "execution_count": 39,
   "id": "9f272b4c",
   "metadata": {},
   "outputs": [
    {
     "name": "stdout",
     "output_type": "stream",
     "text": [
      "u(0.1) = 0.9999546021312976\n",
      "u(0.01) = 1.0\n",
      "u(0.001) = 1.0\n",
      "u(0.0001) = 1.0\n"
     ]
    }
   ],
   "source": [
    "u = [0.1, 0.01, 0.001, 0.0001]\n",
    "for i in range(len(u)):  \n",
    "    \n",
    "    x = 1 /( 1 + np.exp((-1/u[i])))\n",
    "    print(f'u({u[i]}) =',x)\n"
   ]
  },
  {
   "cell_type": "markdown",
   "id": "71be5da4",
   "metadata": {},
   "source": [
    "A segunda, por conta de ter um resultado mais preciso."
   ]
  },
  {
   "cell_type": "markdown",
   "id": "e64a9586",
   "metadata": {},
   "source": [
    "\n",
    "<div class=\"alert alert-block alert-info\">\n",
    "    <h3>• Exercício 1.5</h3> \n",
    "    <p>Observe a seguinte identidade\n",
    "$$ f(x) = \\frac{ (1 + x) - 1}{x} \n",
    "$$\n",
    "\n",
    "\n",
    "Não é muito difícil verificar, analiticamente, que, para qualquer valor de x, sempre teremos\n",
    "f(x) = 1. Faça um programa que calcule o valor da expressão para x = 10−12\n",
    ", x = 10−15 e\n",
    "x = 10−17. Compare os resultados com o resultado analítico e explique-os</p>\n",
    "    \n",
    "\n",
    "\n",
    "</div>"
   ]
  },
  {
   "cell_type": "code",
   "execution_count": 56,
   "id": "cd3a2904",
   "metadata": {},
   "outputs": [
    {
     "name": "stdout",
     "output_type": "stream",
     "text": [
      "f(1e-12) = 1.000088900582341\n",
      "f(1e-15) = 1.1102230246251565\n",
      "f(1e-17) = 0.0\n"
     ]
    }
   ],
   "source": [
    "\n",
    "x = [10**-12, 10**-15, 10**-17]\n",
    "for i in range(len(x)):\n",
    "    f= ((1+x[i])-1) / x[i]\n",
    "    print(f'f({x[i]}) =',f)\n",
    "  "
   ]
  },
  {
   "cell_type": "markdown",
   "id": "adc30659",
   "metadata": {},
   "source": [
    "O resultado analitico esta errado, pois não considerou todas as possibilidades para x."
   ]
  }
 ],
 "metadata": {
  "kernelspec": {
   "display_name": "Python 3",
   "language": "python",
   "name": "python3"
  },
  "language_info": {
   "codemirror_mode": {
    "name": "ipython",
    "version": 3
   },
   "file_extension": ".py",
   "mimetype": "text/x-python",
   "name": "python",
   "nbconvert_exporter": "python",
   "pygments_lexer": "ipython3",
   "version": "3.8.8"
  }
 },
 "nbformat": 4,
 "nbformat_minor": 5
}
