{
 "cells": [
  {
   "cell_type": "markdown",
   "id": "fdb64405",
   "metadata": {},
   "source": [
    "<div class=\"alert alert-block alert-info\">\n",
    "<center>Métodos Numericos</center>\n",
    "<center>LISTA 4a</center>\n",
    "<center>ALUNO: João Pedro de Sousa Corrêa</center>\n",
    "</div>"
   ]
  },
  {
   "cell_type": "code",
   "execution_count": 1,
   "id": "b406de2e",
   "metadata": {},
   "outputs": [],
   "source": [
    "import numpy as np\n",
    "import matplotlib.pyplot as plt"
   ]
  },
  {
   "cell_type": "markdown",
   "id": "fe66bf00",
   "metadata": {},
   "source": [
    "<div class=\"alert alert-block alert-info\">\n",
    "<h4>1. Implemente o método da Bisseção descrito pelo algoritmo 1.1 no texto. Para testar o algoritmo,\n",
    "use os exemplos do material textual.</h4>\n",
    "</div>"
   ]
  },
  {
   "cell_type": "code",
   "execution_count": 2,
   "id": "1cd5622f",
   "metadata": {},
   "outputs": [],
   "source": [
    "def bissecao(f, a, b, tol=1e-10):\n",
    "    erro, x_ant = 1, a\n",
    "    while(erro > tol):\n",
    "        inf = np.sign(f(a))\n",
    "        sup = np.sign(f(b))\n",
    "        if inf*sup != -1: \n",
    "            print(\"Não há raiz nesse intervalo\")\n",
    "            return inf*sup\n",
    "        else:\n",
    "            x = a+0.5*(b-a)\n",
    "            if f(x) == 0:     \n",
    "                return x            \n",
    "            elif inf*np.sign(f(x)) == -1: b = x\n",
    "            else: a = x\n",
    "                \n",
    "        erro = np.abs((x - x_ant))/np.abs(x)\n",
    "        x_ant = x\n",
    "    \n",
    "    return x"
   ]
  },
  {
   "cell_type": "code",
   "execution_count": 24,
   "id": "ebcc82c6",
   "metadata": {},
   "outputs": [],
   "source": [
    "def f(x):\n",
    "    return np.exp(-x)+0.5\n",
    "def f1(x):\n",
    "    return np.cos(x)\n",
    "def g(x):\n",
    "    return f(x)-f1(x)"
   ]
  },
  {
   "cell_type": "code",
   "execution_count": 25,
   "id": "45efc401",
   "metadata": {},
   "outputs": [
    {
     "data": {
      "text/plain": [
       "5.242105934303254"
      ]
     },
     "execution_count": 25,
     "metadata": {},
     "output_type": "execute_result"
    }
   ],
   "source": [
    "bissecao(g,-1,7)"
   ]
  },
  {
   "cell_type": "markdown",
   "id": "89bb0a40",
   "metadata": {},
   "source": [
    "<div class=\"alert alert-block alert-info\">\n",
    "<h4>2. Determine as raízes reais de $f(x) = −0.5x^2 + 2.5x + 4.5$:</h4>\n",
    "<p>(a) Graficamente;</p>\n",
    "<p>(b) Usando a fórmula quadrática;</p>\n",
    "<p>(c) Usando três iterações do método da bisseção para determinar a maior raiz. Use as aproximações iniciais $x_l = 5$ e $x_u = 10$. Calcule o erro relativo obtido entre cada iteração, e o erro\n",
    "entre os valores verdadeiros encontrados no item b e o valor de cada iteração.</p>\n",
    "</div>"
   ]
  },
  {
   "cell_type": "code",
   "execution_count": 6,
   "id": "70edfb7d",
   "metadata": {},
   "outputs": [],
   "source": [
    "def f(x):\n",
    "    return -0.5*x**2+2.5*x+4.5"
   ]
  },
  {
   "cell_type": "markdown",
   "id": "fc551a08",
   "metadata": {},
   "source": [
    "<h4>a)"
   ]
  },
  {
   "cell_type": "code",
   "execution_count": 7,
   "id": "35e960ed",
   "metadata": {
    "scrolled": true
   },
   "outputs": [
    {
     "data": {
      "image/png": "[encoded data removed]",
      "text/plain": [
       "<Figure size 432x288 with 1 Axes>"
      ]
     },
     "metadata": {
      "needs_background": "light"
     },
     "output_type": "display_data"
    }
   ],
   "source": [
    "x = np.linspace(-5, 10, 100)\n",
    "k = np.arange(-5, 0)\n",
    "plt.plot([-5,10],[0,0],'black')\n",
    "plt.plot(x,f(x),[bissecao(f,-2,0),bissecao(f,6,7)],[0,0],'ro')\n",
    "plt.grid()"
   ]
  },
  {
   "cell_type": "markdown",
   "id": "a7209545",
   "metadata": {},
   "source": [
    "<h4>b)"
   ]
  },
  {
   "cell_type": "code",
   "execution_count": 8,
   "id": "648567c4",
   "metadata": {},
   "outputs": [
    {
     "data": {
      "text/plain": [
       "array([ 6.40512484, -1.40512484])"
      ]
     },
     "execution_count": 8,
     "metadata": {},
     "output_type": "execute_result"
    }
   ],
   "source": [
    "coeficientes = [-0.5,2.5,4.5]\n",
    "np.roots(coeficientes)"
   ]
  },
  {
   "cell_type": "markdown",
   "id": "6813fe6b",
   "metadata": {},
   "source": [
    "<h4>c)"
   ]
  },
  {
   "cell_type": "code",
   "execution_count": 9,
   "id": "8146944b",
   "metadata": {},
   "outputs": [],
   "source": [
    "def bissecaoInteracao(f, a, b,interacao = 200):\n",
    "    erro, x_ant = 1, a\n",
    "    cont = 0\n",
    "    \n",
    "    while(cont<interacao):\n",
    "        inf = np.sign(f(a))\n",
    "        sup = np.sign(f(b))\n",
    "        if inf*sup != -1: \n",
    "            print(\"Não há raiz nesse intervalo\")\n",
    "            return inf*sup\n",
    "        else:\n",
    "            x = a+0.5*(b-a)\n",
    "            if f(x) == 0:\n",
    "                \n",
    "                print('A raíz é ', x)   \n",
    "                print(\"Erro relativo = \",np.abs((x - x_ant)/x),\"Valor da interação = \",x)#erro relativo obtido entre cada iteração\n",
    "                return x,np.abs((x - x_ant)/x)\n",
    "            \n",
    "            elif inf*np.sign(f(x)) == -1: b = x\n",
    "            else: a = x\n",
    "        cont+=1;\n",
    "                \n",
    "        erro = np.abs((x - x_ant)/x)\n",
    "        x_ant = x\n",
    "        print(cont,\"º Erro relativo = \", erro,\"\\nValor da interação = \", x)#erro relativo obtido entre cada iteração\n",
    "    return x #Maior raiz"
   ]
  },
  {
   "cell_type": "code",
   "execution_count": 10,
   "id": "40f320db",
   "metadata": {},
   "outputs": [
    {
     "name": "stdout",
     "output_type": "stream",
     "text": [
      "1 º Erro relativo =  0.3333333333333333 \n",
      "Valor da interação =  7.5\n",
      "2 º Erro relativo =  0.2 \n",
      "Valor da interação =  6.25\n",
      "3 º Erro relativo =  0.09090909090909091 \n",
      "Valor da interação =  6.875\n"
     ]
    },
    {
     "data": {
      "text/plain": [
       "6.875"
      ]
     },
     "execution_count": 10,
     "metadata": {},
     "output_type": "execute_result"
    }
   ],
   "source": [
    "bissecaoInteracao(f,5,10,3)"
   ]
  },
  {
   "cell_type": "markdown",
   "id": "4acae219",
   "metadata": {},
   "source": [
    "<h5>Erro relativo da primeira interação com o resultado da letra b."
   ]
  },
  {
   "cell_type": "code",
   "execution_count": 11,
   "id": "2cd3995f",
   "metadata": {},
   "outputs": [
    {
     "data": {
      "text/plain": [
       "0.14598335466666665"
      ]
     },
     "execution_count": 11,
     "metadata": {},
     "output_type": "execute_result"
    }
   ],
   "source": [
    "erro1 = np.abs( 7.5-6.40512484)/ 7.5\n",
    "erro1"
   ]
  },
  {
   "cell_type": "markdown",
   "id": "7a206d14",
   "metadata": {},
   "source": [
    "<h5>Erro relativo da segunda interação com o resultado da letra b."
   ]
  },
  {
   "cell_type": "code",
   "execution_count": 12,
   "id": "df567c6b",
   "metadata": {},
   "outputs": [
    {
     "data": {
      "text/plain": [
       "0.024819974400000007"
      ]
     },
     "execution_count": 12,
     "metadata": {},
     "output_type": "execute_result"
    }
   ],
   "source": [
    "erro2 = np.abs(6.25-6.40512484)/ 6.25\n",
    "erro2"
   ]
  },
  {
   "cell_type": "markdown",
   "id": "ea13316d",
   "metadata": {},
   "source": [
    "<h5>Erro relativo da terceira interação com o resultado da letra b."
   ]
  },
  {
   "cell_type": "code",
   "execution_count": 13,
   "id": "f69c956c",
   "metadata": {},
   "outputs": [
    {
     "data": {
      "text/plain": [
       "0.06834547781818182"
      ]
     },
     "execution_count": 13,
     "metadata": {},
     "output_type": "execute_result"
    }
   ],
   "source": [
    "erro3 = np.abs((6.875-6.40512484)/6.875)\n",
    "erro3"
   ]
  },
  {
   "cell_type": "markdown",
   "id": "edfe363e",
   "metadata": {},
   "source": [
    "<div class=\"alert alert-block alert-info\">\n",
    "3. Localize a primeira raiz não-trivial de $\\sin x = x^3$\n",
    ", onde x está em radianos. Use uma técnica\n",
    "gráfica e a bisseção com o intervalo inicial de 0,5 a 1. Faça os cálculos até que o erro seja inferior\n",
    "a 2%.\n",
    "</div>\n",
    "\n",
    "\n"
   ]
  },
  {
   "cell_type": "code",
   "execution_count": 14,
   "id": "04e895cc",
   "metadata": {},
   "outputs": [],
   "source": [
    "def f(x):\n",
    "    return x**3\n",
    "def g(x):\n",
    "    return np.sin(x)"
   ]
  },
  {
   "cell_type": "code",
   "execution_count": 15,
   "id": "dc75c919",
   "metadata": {},
   "outputs": [
    {
     "data": {
      "image/png": "[encoded data removed]",
      "text/plain": [
       "<Figure size 432x288 with 1 Axes>"
      ]
     },
     "metadata": {
      "needs_background": "light"
     },
     "output_type": "display_data"
    }
   ],
   "source": [
    "x = np.linspace(-5, 3, 1000)\n",
    "\n",
    "\n",
    "plt.plot(x,f(x))\n",
    "plt.plot(x,g(x))\n",
    "\n",
    "plt.plot(x,f(x),[-0.93,0,0.93],[-0.80,0,0.80],'ro')\n",
    "\n",
    "plt.ylim(-1, 1)\n",
    "plt.xlim(-1, 1)\n",
    "\n",
    "plt.grid()"
   ]
  },
  {
   "cell_type": "code",
   "execution_count": 16,
   "id": "f2645455",
   "metadata": {},
   "outputs": [
    {
     "data": {
      "text/plain": [
       "0.921875"
      ]
     },
     "execution_count": 16,
     "metadata": {},
     "output_type": "execute_result"
    }
   ],
   "source": [
    "def h(x):\n",
    "    return g(x)-f(x)\n",
    "\n",
    "\n",
    "bissecao(h,0.5,1,2e-2)\n"
   ]
  },
  {
   "cell_type": "markdown",
   "id": "61ebc1ba",
   "metadata": {},
   "source": [
    "<div class=\"alert alert-block alert-info\">\n",
    "4. Dada $f(x) = −2x^6 − 1.5x^4 + 10x + 20$, encontre o máximo dessa função ( $f\n",
    "'(x) = 0)$ usando o\n",
    "método da bisseção, considerando o intervalo [0, 1] e um erro limite de 5%.\n",
    "\n",
    "</div>\n",
    "\n",
    "\n"
   ]
  },
  {
   "cell_type": "code",
   "execution_count": 17,
   "id": "0acd48f5",
   "metadata": {},
   "outputs": [],
   "source": [
    "def f(x):\n",
    "    return (-2*(x**6))-(1.5*(x**4))+(10*x)+20\n",
    "def fi(x):\n",
    "    return -12*x**5-6*x**3+10"
   ]
  },
  {
   "cell_type": "code",
   "execution_count": 18,
   "id": "144618d2",
   "metadata": {},
   "outputs": [
    {
     "data": {
      "text/plain": [
       "0.84375"
      ]
     },
     "execution_count": 18,
     "metadata": {},
     "output_type": "execute_result"
    }
   ],
   "source": [
    "bissecao(fi,0,1,5e-2)"
   ]
  },
  {
   "cell_type": "markdown",
   "id": "aa928f40",
   "metadata": {},
   "source": [
    "<div class=\"alert alert-block alert-info\">\n",
    "<h4>\n",
    "<p>5. Embora a bisseção seja uma técnica perfeitamente válida para determinar raízes, sua abordagem\n",
    "do tipo “força bruta” é relativamente ineficiente. A falsa posição é uma alternativa baseada na\n",
    "percepção gráfica.</p>\n",
    "<p>Uma deficiência do método da bisseção é que, na divisão do intervalo de $x_l$ a $x_u$ em metades\n",
    "iguais, não são levados em conta os módulos de $f (x_l\n",
    ")$ e $f (x_u\n",
    ").$ Por exemplo, se $f (x_l\n",
    ") $estiver\n",
    "muito mais próximo de zero do que $f (x_u\n",
    ")$, será provável que a raiz esteja mais próxima de $x_l$ que\n",
    "de $x_u$\n",
    ".</p>\n",
    "<p>Um método alternativo que explora essa percepção gráfica é ligar$ f (x_l\n",
    ")$ e $f (x_u\n",
    ") $por uma reta.\n",
    "A intersecção dessa reta com o eixo x representa uma estimativa melhorada da raiz. O fato da\n",
    "substituição da curva por uma reta dar uma “falsa posição” da raiz é a origem do nome, método\n",
    "da falsa posição, ou, em latim, regula falsi. Ele também é chamado de método da interpolação\n",
    "linear. Para esse método, a aproximação da raiz é dada por</p>\n",
    "$$x^∗ = x_u -\\frac{f (x_u)(x_l − x_u)}{f (x_l) − f (x_u)},$$\n",
    "<p>em que x\n",
    "∗\n",
    "é a estimação da raiz na atual iteração, $x_l$ e $x_u$\n",
    "são, respectivamente, os limites inferior\n",
    "e superior do intervalo de verificação da raiz e $f (x_l\n",
    ")$ e $f (x_u\n",
    ") $são os valores da função para esses\n",
    "limites.</p>\n",
    "<p>As bibliotecas numérica do python não trazem uma implementação desse método. Implementeo, teste-o com os exemplos do texto, comparando com o método da bisseção. Mostre que esse\n",
    "método, para vários casos, é mais eficiente que o da bisseção.</p>\n",
    "    \n",
    "</div>\n",
    "\n",
    "\n",
    "\n"
   ]
  },
  {
   "cell_type": "code",
   "execution_count": 19,
   "id": "a68e8424",
   "metadata": {},
   "outputs": [],
   "source": [
    "def interpolacao(f, a, b, tol=1e-10):\n",
    "    erro, x_ant = 1, a\n",
    "    interacoes = 0\n",
    "    while(erro > tol):\n",
    "        inf = np.sign(f(a))\n",
    "        sup = np.sign(f(b))\n",
    "        if inf*sup != -1: \n",
    "            print(\"Não há raiz nesse intervalo\")\n",
    "            return inf*sup\n",
    "        else:\n",
    "            x = a-((f(a)*(b-a))/(f(b)-f(a)))\n",
    "            if f(x) == 0:\n",
    "                \n",
    "                print('A raíz é ', x)   \n",
    "                return [x,interacoes]\n",
    "            \n",
    "            elif inf*np.sign(f(x)) == -1: b = x\n",
    "            else: a = x\n",
    "                \n",
    "        erro = np.abs((x - x_ant)/x)\n",
    "        x_ant = x\n",
    "        interacoes+=1\n",
    "        \n",
    "    return [x,interacoes]\n",
    "\n",
    "def bissecao3(f, a, b, tol=1e-10):\n",
    "    erro, x_ant = 1, a\n",
    "    interacoes=0\n",
    "    while(erro > tol):\n",
    "        inf = np.sign(f(a))\n",
    "        sup = np.sign(f(b))\n",
    "        if inf*sup != -1: \n",
    "            print(\"Não há raiz nesse intervalo\")\n",
    "            return inf*sup\n",
    "        else:\n",
    "            x = a+0.5*(b-a)\n",
    "            if f(x) == 0:\n",
    "                \n",
    "                print('A raíz é ', x)   \n",
    "                return [x,interacoes]\n",
    "            \n",
    "            elif inf*np.sign(f(x)) == -1: b = x\n",
    "            else: a = x\n",
    "                \n",
    "        erro = np.abs((x - x_ant)/x)\n",
    "        x_ant = x\n",
    "        interacoes+=1\n",
    "    \n",
    "    return [x,interacoes]"
   ]
  },
  {
   "cell_type": "code",
   "execution_count": 20,
   "id": "144b3b41",
   "metadata": {},
   "outputs": [],
   "source": [
    "#Primeiro teste com a função fi(x)\n",
    "\n",
    "def fi(x):\n",
    "    return -12*x**5-6*x**3+10\n",
    "\n",
    "interacoesFiBiss = bissecao3(fi,0,1)[1]\n",
    "interacoesFiInter = interpolacao(fi,0,1)[1]\n",
    "\n"
   ]
  },
  {
   "cell_type": "code",
   "execution_count": 21,
   "id": "d8492b09",
   "metadata": {
    "scrolled": false
   },
   "outputs": [
    {
     "data": {
      "image/png": "[encoded data removed]",
      "text/plain": [
       "<Figure size 432x288 with 1 Axes>"
      ]
     },
     "metadata": {
      "needs_background": "light"
     },
     "output_type": "display_data"
    }
   ],
   "source": [
    "index = np.arange(2)\n",
    "plt.title(\"Comparação de metodos por quantidade de interação\")\n",
    "plt.bar([1,2],[interacoesFiBiss,interacoesFiInter],color = ['#FFD700','#696969'])\n",
    "\n",
    "plt.text(2,18,str(interacoesFiInter))\n",
    "plt.text(1,35,str(interacoesFiBiss))\n",
    "plt.ylim(0,40)\n",
    "\n",
    "plt.xticks(index+1, (\"Bisseção\", \"Interpolação\"))\n",
    "plt.ylabel(\"Quantidade de interações\")\n",
    "plt.show()"
   ]
  },
  {
   "cell_type": "code",
   "execution_count": 22,
   "id": "7ae7b1a9",
   "metadata": {},
   "outputs": [],
   "source": [
    "#Segundo teste com a função f(x)\n",
    "def f(x):\n",
    "    return -0.5*x**2+2.5*x+4.5\n",
    "\n",
    "interacoesFBiss = bissecao3(f,-2,0)[1]\n",
    "interacoesFInter = interpolacao(f,-2,0)[1]"
   ]
  },
  {
   "cell_type": "code",
   "execution_count": 23,
   "id": "ac067373",
   "metadata": {},
   "outputs": [
    {
     "data": {
      "image/png": "[encoded data removed]",
      "text/plain": [
       "<Figure size 432x288 with 1 Axes>"
      ]
     },
     "metadata": {
      "needs_background": "light"
     },
     "output_type": "display_data"
    }
   ],
   "source": [
    "index = np.arange(2)\n",
    "plt.title(\"Comparação de metodos por quantidade de interação\")\n",
    "plt.bar([1,2],[interacoesFBiss,interacoesFInter],color = ['#FFD700','#696969'])\n",
    "\n",
    "\n",
    "plt.text(2,11,str(interacoesFInter))\n",
    "plt.text(1,35,str(interacoesFBiss))\n",
    "plt.ylim(0,40)\n",
    "\n",
    "\n",
    "plt.xticks(index+1, (\"Bisseção\", \"Interpolação\"))\n",
    "plt.ylabel(\"Quantidade de interações\")\n",
    "plt.show()"
   ]
  }
 ],
 "metadata": {
  "kernelspec": {
   "display_name": "Python 3",
   "language": "python",
   "name": "python3"
  },
  "language_info": {
   "codemirror_mode": {
    "name": "ipython",
    "version": 3
   },
   "file_extension": ".py",
   "mimetype": "text/x-python",
   "name": "python",
   "nbconvert_exporter": "python",
   "pygments_lexer": "ipython3",
   "version": "3.8.8"
  }
 },
 "nbformat": 4,
 "nbformat_minor": 5
}
