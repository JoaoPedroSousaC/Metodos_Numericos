{
 "cells": [
  {
   "cell_type": "markdown",
   "id": "fdb64405",
   "metadata": {},
   "source": [
    "<div class=\"alert alert-block alert-info\">\n",
    "<center>Métodos Numericos</center>\n",
    "<center>LISTA 3b</center>\n",
    "<center>ALUNO: João Pedro de Sousa Corrêa</center>\n",
    "</div>"
   ]
  },
  {
   "cell_type": "code",
   "execution_count": 1,
   "id": "03f1ec86",
   "metadata": {},
   "outputs": [],
   "source": [
    "import numpy as np\n",
    "import matplotlib.pyplot as plt "
   ]
  },
  {
   "cell_type": "markdown",
   "id": "b767277c",
   "metadata": {},
   "source": [
    "\n",
    "<div class=\"alert alert-block alert-info\">\n",
    "    Existem diferentes métodos para calcular aproximadamente o valor de π\n",
    "computacionalmente. Vários desses métodos usam a aproximação por séries de Taylor\n",
    "para o arcotangente, definida por:\n",
    "    \n",
    "$$\n",
    "\\arctan(x)= x - \\frac{x^3}{3} + \\frac{x^5}{5} - \\frac{x^7}{7} + ... = f(x) = \\sum_{n = 0}^{\\infty} {(-1)^n}\\frac{x^{(2n+1)}}{2n+1}\n",
    "$$\n",
    "    \n",
    " São alguns desses métodos:\n",
    "</div>"
   ]
  },
  {
   "cell_type": "markdown",
   "id": "ffe9d084",
   "metadata": {},
   "source": [
    "Formula do arctan:"
   ]
  },
  {
   "cell_type": "code",
   "execution_count": 2,
   "id": "180a8d5f",
   "metadata": {},
   "outputs": [],
   "source": [
    "def arc(x,n):\n",
    "    arco=0\n",
    "    l=[]\n",
    "    for i in range(n):\n",
    "        arco = arco + (((-1)**i)*((x**(2*i+(1)))/((2*i)+1)))\n",
    "        l.append(arco)\n",
    "        \n",
    "    return np.array(l)\n"
   ]
  },
  {
   "cell_type": "markdown",
   "id": "5843f45c",
   "metadata": {},
   "source": [
    "\n",
    "<div class=\"alert alert-block alert-info\">\n",
    "   a) Fórmula de Machin \n",
    "    $$\n",
    "    \\frac{\\pi}{4}= 4 \\arctan \\frac{1}{5} -  \\arctan \\frac{1}{239}\n",
    "    $$\n",
    "\n",
    "</div>"
   ]
  },
  {
   "cell_type": "code",
   "execution_count": 3,
   "id": "fcbe6ed7",
   "metadata": {},
   "outputs": [
    {
     "data": {
      "text/plain": [
       "array([3.1832636 , 3.14059703, 3.14162103, 3.14159177, 3.14159268,\n",
       "       3.14159265, 3.14159265, 3.14159265, 3.14159265, 3.14159265,\n",
       "       3.14159265, 3.14159265, 3.14159265, 3.14159265, 3.14159265,\n",
       "       3.14159265, 3.14159265, 3.14159265, 3.14159265, 3.14159265])"
      ]
     },
     "execution_count": 3,
     "metadata": {},
     "output_type": "execute_result"
    }
   ],
   "source": [
    "arctan1_5 = arc(1/5,20)\n",
    "arctan1_239 = arc(1/239,20)\n",
    "Machin = 4*(4*arctan1_5 - arctan1_239)\n",
    "Machin"
   ]
  },
  {
   "cell_type": "markdown",
   "id": "e9b7d9c2",
   "metadata": {},
   "source": [
    "\n",
    "<div class=\"alert alert-block alert-info\">\n",
    "b) Fórmula de Hutton\n",
    " $$\n",
    "    \\frac{\\pi}{4}=  \\arctan \\frac{1}{2} +  \\arctan \\frac{1}{3}\n",
    "    $$\n",
    "</div>"
   ]
  },
  {
   "cell_type": "code",
   "execution_count": 4,
   "id": "1e7b31ca",
   "metadata": {},
   "outputs": [
    {
     "data": {
      "text/plain": [
       "array([3.33333333, 3.11728395, 3.14557613, 3.14085056, 3.1417412 ,\n",
       "       3.14156159, 3.14159934, 3.14159118, 3.14159298, 3.14159258,\n",
       "       3.14159267, 3.14159265, 3.14159265, 3.14159265, 3.14159265,\n",
       "       3.14159265, 3.14159265, 3.14159265, 3.14159265, 3.14159265])"
      ]
     },
     "execution_count": 4,
     "metadata": {},
     "output_type": "execute_result"
    }
   ],
   "source": [
    "arctan1_2 = arc(1/2,20)\n",
    "arctan1_3 = arc(1/3,20)\n",
    "Hutton = 4*(arctan1_2 + arctan1_3)\n",
    "Hutton"
   ]
  },
  {
   "cell_type": "markdown",
   "id": "867d6662",
   "metadata": {},
   "source": [
    "\n",
    "<div class=\"alert alert-block alert-info\">\n",
    "c) Fórmula de Clausen\n",
    " $$\n",
    "    \\frac{\\pi}{4}= 2 \\arctan \\frac{1}{3} +  \\arctan \\frac{1}{7}\n",
    "    $$\n",
    "</div>"
   ]
  },
  {
   "cell_type": "code",
   "execution_count": 5,
   "id": "5fb58c95",
   "metadata": {
    "scrolled": true
   },
   "outputs": [
    {
     "data": {
      "text/plain": [
       "array([3.23809524, 3.13544254, 3.1420745 , 3.14155124, 3.14159641,\n",
       "       3.1415923 , 3.14159269, 3.14159265, 3.14159265, 3.14159265,\n",
       "       3.14159265, 3.14159265, 3.14159265, 3.14159265, 3.14159265,\n",
       "       3.14159265, 3.14159265, 3.14159265, 3.14159265, 3.14159265])"
      ]
     },
     "execution_count": 5,
     "metadata": {},
     "output_type": "execute_result"
    }
   ],
   "source": [
    "arctan1_3 = arc(1/3,20)\n",
    "arctan1_7 = arc(1/7,20)\n",
    "Clausen = 4*(2*arctan1_3 + arctan1_7)\n",
    "Clausen"
   ]
  },
  {
   "cell_type": "markdown",
   "id": "70ab0238",
   "metadata": {},
   "source": [
    "\n",
    "<div class=\"alert alert-block alert-info\">\n",
    "d) Fórmula de Dase\n",
    " $$\n",
    "    \\frac{\\pi}{4}=  \\arctan \\frac{1}{2} +  \\arctan \\frac{1}{5} +\n",
    " \\arctan \\frac{1}{8}   $$    \n",
    "</div>"
   ]
  },
  {
   "cell_type": "code",
   "execution_count": 6,
   "id": "05bae207",
   "metadata": {},
   "outputs": [
    {
     "data": {
      "text/plain": [
       "array([3.3       , 3.1200625 , 3.14534291, 3.14087104, 3.14173933,\n",
       "       3.14156176, 3.14159932, 3.14159119, 3.14159298, 3.14159258,\n",
       "       3.14159267, 3.14159265, 3.14159265, 3.14159265, 3.14159265,\n",
       "       3.14159265, 3.14159265, 3.14159265, 3.14159265, 3.14159265])"
      ]
     },
     "execution_count": 6,
     "metadata": {},
     "output_type": "execute_result"
    }
   ],
   "source": [
    "arctan1_2 = arc(1/2,20)\n",
    "arctan1_5 = arc(1/5,20)\n",
    "arctan1_8 = arc(1/8,20)\n",
    "Dase = 4*(arctan1_2 + arctan1_5 + arctan1_8)\n",
    "Dase"
   ]
  },
  {
   "cell_type": "markdown",
   "id": "60d251d7",
   "metadata": {},
   "source": [
    "\n",
    "<div class=\"alert alert-block alert-info\">\n",
    "Gere gráficos que comparem a evolução do erro em função do número de termos\n",
    "considerados, para os vinte primeiros termos de cada método descrito acima e comente os\n",
    "resultados obtidos. \n",
    "</div>"
   ]
  },
  {
   "cell_type": "markdown",
   "id": "e17b3021",
   "metadata": {},
   "source": [
    "<h3>Erro Machin</h3>"
   ]
  },
  {
   "cell_type": "code",
   "execution_count": 7,
   "id": "fb75be25",
   "metadata": {
    "scrolled": true
   },
   "outputs": [
    {
     "data": {
      "text/plain": [
       "array([3.1832636 , 3.14059703, 3.14162103, 3.14159177, 3.14159268,\n",
       "       3.14159265, 3.14159265, 3.14159265, 3.14159265, 3.14159265,\n",
       "       3.14159265, 3.14159265, 3.14159265, 3.14159265, 3.14159265,\n",
       "       3.14159265, 3.14159265, 3.14159265, 3.14159265, 3.14159265])"
      ]
     },
     "execution_count": 7,
     "metadata": {},
     "output_type": "execute_result"
    }
   ],
   "source": [
    "val = np.array(Machin)\n",
    "val"
   ]
  },
  {
   "cell_type": "code",
   "execution_count": 8,
   "id": "1a273007",
   "metadata": {
    "scrolled": false
   },
   "outputs": [
    {
     "data": {
      "text/plain": [
       "array([1.34034043e-02, 3.26052655e-04, 9.31275370e-06, 2.89732813e-07,\n",
       "       9.48216200e-09, 3.20934789e-10, 1.11257216e-11, 3.92692485e-13,\n",
       "       1.39944406e-14, 5.65431943e-16, 0.00000000e+00, 0.00000000e+00,\n",
       "       0.00000000e+00, 0.00000000e+00, 0.00000000e+00, 0.00000000e+00,\n",
       "       0.00000000e+00, 0.00000000e+00, 0.00000000e+00])"
      ]
     },
     "execution_count": 8,
     "metadata": {},
     "output_type": "execute_result"
    }
   ],
   "source": [
    "erroMachin = np.abs(np.diff(val)/val[0:19])\n",
    "erroMachin"
   ]
  },
  {
   "cell_type": "markdown",
   "id": "0af9338e",
   "metadata": {},
   "source": [
    "<h3>Erro Hutton</h3>"
   ]
  },
  {
   "cell_type": "code",
   "execution_count": 9,
   "id": "118f50f9",
   "metadata": {
    "scrolled": true
   },
   "outputs": [
    {
     "data": {
      "text/plain": [
       "array([3.33333333, 3.11728395, 3.14557613, 3.14085056, 3.1417412 ,\n",
       "       3.14156159, 3.14159934, 3.14159118, 3.14159298, 3.14159258,\n",
       "       3.14159267, 3.14159265, 3.14159265, 3.14159265, 3.14159265,\n",
       "       3.14159265, 3.14159265, 3.14159265, 3.14159265, 3.14159265])"
      ]
     },
     "execution_count": 9,
     "metadata": {},
     "output_type": "execute_result"
    }
   ],
   "source": [
    "val = np.array(Hutton)\n",
    "val"
   ]
  },
  {
   "cell_type": "code",
   "execution_count": 10,
   "id": "fd992035",
   "metadata": {
    "scrolled": false
   },
   "outputs": [
    {
     "data": {
      "text/plain": [
       "array([6.48148148e-02, 9.07590759e-03, 1.50229075e-03, 2.83565122e-04,\n",
       "       5.71687942e-05, 1.20173002e-05, 2.59632258e-06, 5.71994749e-07,\n",
       "       1.27874049e-07, 2.89166505e-08, 6.59980458e-09, 1.51787986e-09,\n",
       "       3.51353331e-10, 8.17796942e-11, 1.91257355e-11, 4.49150864e-12,\n",
       "       1.05877131e-12, 2.50486351e-13, 5.93703541e-14])"
      ]
     },
     "execution_count": 10,
     "metadata": {},
     "output_type": "execute_result"
    }
   ],
   "source": [
    "erroHutton = np.abs(np.diff(val)/val[0:19])\n",
    "erroHutton"
   ]
  },
  {
   "cell_type": "markdown",
   "id": "a848ce1d",
   "metadata": {},
   "source": [
    "<h3>Erro Clause</h3>\n"
   ]
  },
  {
   "cell_type": "code",
   "execution_count": 11,
   "id": "7a8a40ff",
   "metadata": {
    "scrolled": true
   },
   "outputs": [
    {
     "data": {
      "text/plain": [
       "array([3.23809524, 3.13544254, 3.1420745 , 3.14155124, 3.14159641,\n",
       "       3.1415923 , 3.14159269, 3.14159265, 3.14159265, 3.14159265,\n",
       "       3.14159265, 3.14159265, 3.14159265, 3.14159265, 3.14159265,\n",
       "       3.14159265, 3.14159265, 3.14159265, 3.14159265, 3.14159265])"
      ]
     },
     "execution_count": 11,
     "metadata": {},
     "output_type": "execute_result"
    }
   ],
   "source": [
    "val = np.array(Clausen)\n",
    "val"
   ]
  },
  {
   "cell_type": "code",
   "execution_count": 12,
   "id": "e58c6cc9",
   "metadata": {
    "scrolled": false
   },
   "outputs": [
    {
     "data": {
      "text/plain": [
       "array([3.17015695e-02, 2.11515959e-03, 1.66534018e-04, 1.43786443e-05,\n",
       "       1.30687052e-06, 1.22863836e-07, 1.18312514e-08, 1.15992511e-09,\n",
       "       1.15314191e-10, 1.15924857e-11, 1.17609844e-12, 1.20154288e-13,\n",
       "       1.22981448e-14, 1.27222187e-15, 1.41357986e-16, 0.00000000e+00,\n",
       "       0.00000000e+00, 0.00000000e+00, 0.00000000e+00])"
      ]
     },
     "execution_count": 12,
     "metadata": {},
     "output_type": "execute_result"
    }
   ],
   "source": [
    "erroClausen = np.abs(np.diff(val)/val[0:19])\n",
    "erroClausen"
   ]
  },
  {
   "cell_type": "markdown",
   "id": "be3fbf2e",
   "metadata": {},
   "source": [
    "<h3>Erro Dase</h3>"
   ]
  },
  {
   "cell_type": "code",
   "execution_count": 13,
   "id": "6cf25255",
   "metadata": {
    "scrolled": true
   },
   "outputs": [
    {
     "data": {
      "text/plain": [
       "array([3.3       , 3.1200625 , 3.14534291, 3.14087104, 3.14173933,\n",
       "       3.14156176, 3.14159932, 3.14159119, 3.14159298, 3.14159258,\n",
       "       3.14159267, 3.14159265, 3.14159265, 3.14159265, 3.14159265,\n",
       "       3.14159265, 3.14159265, 3.14159265, 3.14159265, 3.14159265])"
      ]
     },
     "execution_count": 13,
     "metadata": {},
     "output_type": "execute_result"
    }
   ],
   "source": [
    "val = np.array(Dase)\n",
    "val"
   ]
  },
  {
   "cell_type": "code",
   "execution_count": 15,
   "id": "d00519fb",
   "metadata": {
    "scrolled": false
   },
   "outputs": [
    {
     "data": {
      "text/plain": [
       "array([5.45265152e-02, 8.10253450e-03, 1.42174402e-03, 2.76447651e-04,\n",
       "       5.65178359e-05, 1.19559479e-05, 2.59040977e-06, 5.71414884e-07,\n",
       "       1.27816396e-07, 2.89108546e-08, 6.59921668e-09, 1.51781978e-09,\n",
       "       3.51346970e-10, 8.17789874e-11, 1.91257355e-11, 4.49150864e-12,\n",
       "       1.05877131e-12, 2.50486351e-13, 5.93703541e-14])"
      ]
     },
     "execution_count": 15,
     "metadata": {},
     "output_type": "execute_result"
    }
   ],
   "source": [
    "erroDase = np.abs(np.diff(val)/val[0:19])\n",
    "erroDase"
   ]
  },
  {
   "cell_type": "code",
   "execution_count": 16,
   "id": "5d02c7e7",
   "metadata": {},
   "outputs": [
    {
     "data": {
      "text/plain": [
       "<matplotlib.legend.Legend at 0x1a91c7c0820>"
      ]
     },
     "execution_count": 16,
     "metadata": {},
     "output_type": "execute_result"
    },
    {
     "data": {
      "image/png": "[encoded data removed]",
      "text/plain": [
       "<Figure size 1080x720 with 1 Axes>"
      ]
     },
     "metadata": {
      "needs_background": "light"
     },
     "output_type": "display_data"
    }
   ],
   "source": [
    "y = np.zeros(len(Machin))\n",
    "plt.figure(figsize = (15,10))\n",
    "lista = [erroMachin,erroHutton,erroClausen,erroDase]\n",
    "for n,label in zip(range(4),['erroMachin', 'erroHutton', 'erroClausen', 'erroDase']):\n",
    "    plt.plot(lista[n], label = label)\n",
    "plt.grid()\n",
    "plt.legend()"
   ]
  },
  {
   "cell_type": "markdown",
   "id": "0ca15ffd",
   "metadata": {},
   "source": [
    "O Machin chega mais rapido ao resultado esperado."
   ]
  }
 ],
 "metadata": {
  "kernelspec": {
   "display_name": "Python 3",
   "language": "python",
   "name": "python3"
  },
  "language_info": {
   "codemirror_mode": {
    "name": "ipython",
    "version": 3
   },
   "file_extension": ".py",
   "mimetype": "text/x-python",
   "name": "python",
   "nbconvert_exporter": "python",
   "pygments_lexer": "ipython3",
   "version": "3.8.8"
  }
 },
 "nbformat": 4,
 "nbformat_minor": 5
}
