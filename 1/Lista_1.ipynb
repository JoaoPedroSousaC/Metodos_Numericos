{
 "cells": [
  {
   "cell_type": "markdown",
   "id": "9b8f3d41",
   "metadata": {},
   "source": [
    "<div class=\"alert alert-block alert-info\">\n",
    "<center>Métodos Numéricos</center>\n",
    "<center>LISTA 01</center>\n",
    "<center>ALUNO: João Pedro de Sousa Corrêa</center>\n",
    "</div>"
   ]
  },
  {
   "cell_type": "markdown",
   "id": "b164b90f",
   "metadata": {},
   "source": [
    "<div class=\"alert alert-block alert-info\">\n",
    "1. Como importar a biblioteca numpy e verificar a versão utilizada?\n",
    "</div>"
   ]
  },
  {
   "cell_type": "code",
   "execution_count": 2,
   "id": "aa4dcfec",
   "metadata": {},
   "outputs": [],
   "source": [
    "import numpy as np"
   ]
  },
  {
   "cell_type": "code",
   "execution_count": 3,
   "id": "4a1ee45e",
   "metadata": {},
   "outputs": [
    {
     "data": {
      "text/plain": [
       "'1.20.1'"
      ]
     },
     "execution_count": 3,
     "metadata": {},
     "output_type": "execute_result"
    }
   ],
   "source": [
    "np.__version__"
   ]
  },
  {
   "cell_type": "markdown",
   "id": "412061df",
   "metadata": {},
   "source": [
    "<div class=\"alert alert-block alert-info\">\n",
    "2. Explique, com suas palavras, os conceitos de vetorização e broadcasting que Numpy implementa.\n",
    "</div>\n",
    "    \n",
    "    "
   ]
  },
  {
   "cell_type": "markdown",
   "id": "11bad64a",
   "metadata": {},
   "source": [
    "Vetorização é um mecanismo para otimizar os processos dos elementos em um array.\n",
    "Broadcasting descreve como o numpy trata as matrizes com diferentes formas durante as operações aritméticas. \n",
    "\n",
    "\n",
    "\n"
   ]
  },
  {
   "cell_type": "markdown",
   "id": "43dffa2b",
   "metadata": {},
   "source": [
    "<div class=\"alert alert-block alert-info\">\n",
    "3. Liste as diferenças entre uma lista, um dicionário, um array numpy, dando exemplos de\n",
    "aplicação de em que cada tipo seria mais interessante.\n",
    "\n",
    "</div>\n",
    "\n",
    "    \n",
    "    "
   ]
  },
  {
   "cell_type": "markdown",
   "id": "4e09ad4f",
   "metadata": {},
   "source": [
    "lista é um conjunto de elementos que pode ser acesado atraves do indice. Exemplo lista = [\"a\",\"b\"] o indice 0 acessa o elemento \"a\" da lista.\n",
    "\n",
    "Dicionarios é um tipo de estrutura de elementos que são ligados a uma chave, e podem ser acessados atraves dessa chave. Exemplo {\"a\":1,\"b\":2}, posso acessar a string \"a\" atraves da chave 1.\n",
    "\n",
    "Array numpy é um tipo de estrutura de dados capaz de lidar com grandes conjuntos de forma eficiente. Exemplo: podemos usar o array numpy para gerenciar varios e varios arrays de tamanhos e tipos diferentes."
   ]
  },
  {
   "cell_type": "markdown",
   "id": "00ff8a04",
   "metadata": {},
   "source": [
    "<div class=\"alert alert-block alert-info\">\n",
    "4. Forme a matriz\n",
    "[[1, 6, 11],\n",
    "[2, 7, 12],\n",
    "[3, 8, 13],\n",
    "[4, 9, 14],\n",
    "[5, 10, 15]]\n",
    "usando lista e array Numpy\n",
    "</div>"
   ]
  },
  {
   "cell_type": "code",
   "execution_count": 6,
   "id": "e80c5c62",
   "metadata": {},
   "outputs": [],
   "source": [
    "lista1 = [1, 6, 11]\n",
    "lista2 = [2, 7, 12]\n",
    "lista3 = [3, 8, 13]\n",
    "lista4 =  [4, 9, 14]\n",
    "lista5 =  [5, 10, 15]"
   ]
  },
  {
   "cell_type": "code",
   "execution_count": 7,
   "id": "634c0b63",
   "metadata": {
    "scrolled": true
   },
   "outputs": [
    {
     "data": {
      "text/plain": [
       "array([[ 1,  6, 11],\n",
       "       [ 2,  7, 12],\n",
       "       [ 3,  8, 13],\n",
       "       [ 4,  9, 14],\n",
       "       [ 5, 10, 15]])"
      ]
     },
     "execution_count": 7,
     "metadata": {},
     "output_type": "execute_result"
    }
   ],
   "source": [
    "matriz = np.array((lista1,lista2,lista3,lista4,lista5))\n",
    "matriz"
   ]
  },
  {
   "cell_type": "markdown",
   "id": "6dfedcb5",
   "metadata": {},
   "source": [
    "\n",
    "<div class=\"alert alert-block alert-info\">\n",
    "5. Usando numpy, crie:\n",
    "    \n",
    "(a) um vetor de 10 elementos entre 1 e 20\n",
    "    \n",
    "\n",
    "</div>\n"
   ]
  },
  {
   "cell_type": "code",
   "execution_count": 8,
   "id": "c2db4be8",
   "metadata": {},
   "outputs": [
    {
     "data": {
      "text/plain": [
       "array([ 1.        ,  3.11111111,  5.22222222,  7.33333333,  9.44444444,\n",
       "       11.55555556, 13.66666667, 15.77777778, 17.88888889, 20.        ])"
      ]
     },
     "execution_count": 8,
     "metadata": {},
     "output_type": "execute_result"
    }
   ],
   "source": [
    "np.linspace(1, 20, 10) "
   ]
  },
  {
   "cell_type": "markdown",
   "id": "3364615b",
   "metadata": {},
   "source": [
    "\n",
    "<div class=\"alert alert-block alert-info\">\n",
    "\n",
    "    \n",
    "\n",
    "    \n",
    "(b) um vetor entre 1 e 20, com passo de 2\n",
    "    \n",
    "\n",
    "</div>\n"
   ]
  },
  {
   "cell_type": "code",
   "execution_count": 9,
   "id": "f8d19a34",
   "metadata": {},
   "outputs": [
    {
     "data": {
      "text/plain": [
       "array([ 1,  3,  5,  7,  9, 11, 13, 15, 17, 19])"
      ]
     },
     "execution_count": 9,
     "metadata": {},
     "output_type": "execute_result"
    }
   ],
   "source": [
    "np.arange(1,20,2) "
   ]
  },
  {
   "cell_type": "markdown",
   "id": "0107782a",
   "metadata": {},
   "source": [
    "\n",
    "<div class=\"alert alert-block alert-info\">\n",
    "\n",
    "    \n",
    "(c) uma matriz 3x3 cujos elementos da diagonal sejam o vetor [1,2,3] e os demais sejam todos 0\n",
    "</div>\n"
   ]
  },
  {
   "cell_type": "code",
   "execution_count": 10,
   "id": "d7924b9b",
   "metadata": {},
   "outputs": [
    {
     "data": {
      "text/plain": [
       "array([[1., 0., 0.],\n",
       "       [0., 2., 0.],\n",
       "       [0., 0., 3.]])"
      ]
     },
     "execution_count": 10,
     "metadata": {},
     "output_type": "execute_result"
    }
   ],
   "source": [
    "[1,2,3]*np.eye(3)"
   ]
  },
  {
   "cell_type": "markdown",
   "id": "2fa8b1f7",
   "metadata": {},
   "source": [
    "<div class=\"alert alert-block alert-info\">\n",
    "   6. Considere a lista [-2, 4., ’7’, 9] e crie um array Numpy a partir dessa lista. Houve\n",
    "uma mudança no tipo de vários elementos. Explique com suas palavras porque isso acon\u0002teceu. Se o elemento ’7’ for escrito como inteiro, o que muda na saída e por que\n",
    " </div>\n",
    "\n"
   ]
  },
  {
   "cell_type": "code",
   "execution_count": 11,
   "id": "ea18d9ee",
   "metadata": {},
   "outputs": [
    {
     "data": {
      "text/plain": [
       "array(['-2', '4.0', '7', '9'], dtype='<U32')"
      ]
     },
     "execution_count": 11,
     "metadata": {},
     "output_type": "execute_result"
    }
   ],
   "source": [
    "np.array( [-2, 4., '7', 9])"
   ]
  },
  {
   "cell_type": "markdown",
   "id": "59e7f3f3",
   "metadata": {},
   "source": [
    "R:Porque o array utiliza upcast que prioriza a tipagem forte, então tranforma todos os elementos do array ao tipo string."
   ]
  },
  {
   "cell_type": "code",
   "execution_count": 12,
   "id": "47fa8254",
   "metadata": {},
   "outputs": [
    {
     "data": {
      "text/plain": [
       "array([-2.,  4.,  7.,  9.])"
      ]
     },
     "execution_count": 12,
     "metadata": {},
     "output_type": "execute_result"
    }
   ],
   "source": [
    "np.array( [-2, 4., 7, 9])"
   ]
  },
  {
   "cell_type": "markdown",
   "id": "66b9e7eb",
   "metadata": {},
   "source": [
    "R:O array utiliza upcast que prioriza a tipagem forte, então tranforma todos os elementos do array ao tipo float, ja que na ordem de prioridade o float é o mais forte dentre as opções desse array.\n",
    "    "
   ]
  },
  {
   "cell_type": "markdown",
   "id": "770fe145",
   "metadata": {},
   "source": [
    "<div class=\"alert alert-block alert-info\">\n",
    "   7. Crie um vetor A com valores variando de 10 à 49, um vetor B variando de 1 à 39 e um vetor\n",
    "C de 10 à 20. Então realize e comente a saída das seguintes operações:    \n",
    "\n",
    "    \n",
    " </div>\n",
    "\n",
    "\n"
   ]
  },
  {
   "cell_type": "code",
   "execution_count": 14,
   "id": "2f5832db",
   "metadata": {},
   "outputs": [],
   "source": [
    "A = np.arange(10,49) \n",
    "B = np.arange(1,39) \n",
    "C = np.arange(10,20)"
   ]
  },
  {
   "cell_type": "code",
   "execution_count": 15,
   "id": "c3a5278f",
   "metadata": {},
   "outputs": [
    {
     "data": {
      "text/plain": [
       "array([ 1.,  2.,  3.,  4.,  5.,  6.,  7.,  8.,  9., 10., 11., 12., 13.,\n",
       "       14., 15., 16., 17., 18., 19., 20., 21., 22., 23., 24., 25., 26.,\n",
       "       27., 28., 29., 30., 31., 32., 33., 34., 35., 36., 37., 38., nan])"
      ]
     },
     "execution_count": 15,
     "metadata": {},
     "output_type": "execute_result"
    }
   ],
   "source": [
    "B= np.append(B,np.full([1,(len(A)-len(B))], np.nan)) \n",
    "B"
   ]
  },
  {
   "cell_type": "markdown",
   "id": "04c4c535",
   "metadata": {},
   "source": [
    "<div class=\"alert alert-block alert-info\">\n",
    "(a) A+ B    \n",
    "\n",
    "    \n",
    " </div>"
   ]
  },
  {
   "cell_type": "code",
   "execution_count": 16,
   "id": "76062454",
   "metadata": {},
   "outputs": [
    {
     "data": {
      "text/plain": [
       "array([11., 13., 15., 17., 19., 21., 23., 25., 27., 29., 31., 33., 35.,\n",
       "       37., 39., 41., 43., 45., 47., 49., 51., 53., 55., 57., 59., 61.,\n",
       "       63., 65., 67., 69., 71., 73., 75., 77., 79., 81., 83., 85., nan])"
      ]
     },
     "execution_count": 16,
     "metadata": {},
     "output_type": "execute_result"
    }
   ],
   "source": [
    "A+B"
   ]
  },
  {
   "cell_type": "markdown",
   "id": "5007c4ae",
   "metadata": {},
   "source": [
    "<div class=\"alert alert-block alert-info\">\n",
    "\n",
    "(b) A· B\n",
    "    \n",
    "\n",
    "    \n",
    " </div>\n",
    "\n",
    "\n"
   ]
  },
  {
   "cell_type": "code",
   "execution_count": 17,
   "id": "f5da60bd",
   "metadata": {},
   "outputs": [
    {
     "data": {
      "text/plain": [
       "array([  10.,   22.,   36.,   52.,   70.,   90.,  112.,  136.,  162.,\n",
       "        190.,  220.,  252.,  286.,  322.,  360.,  400.,  442.,  486.,\n",
       "        532.,  580.,  630.,  682.,  736.,  792.,  850.,  910.,  972.,\n",
       "       1036., 1102., 1170., 1240., 1312., 1386., 1462., 1540., 1620.,\n",
       "       1702., 1786.,   nan])"
      ]
     },
     "execution_count": 17,
     "metadata": {},
     "output_type": "execute_result"
    }
   ],
   "source": [
    "A*B"
   ]
  },
  {
   "cell_type": "markdown",
   "id": "c757b6a5",
   "metadata": {},
   "source": [
    "<div class=\"alert alert-block alert-info\">\n",
    "\n",
    "    \n",
    "(c) A+ C\n",
    "    \n",
    "\n",
    "    \n",
    " </div>\n",
    "\n",
    "\n"
   ]
  },
  {
   "cell_type": "code",
   "execution_count": 18,
   "id": "1df56564",
   "metadata": {},
   "outputs": [],
   "source": [
    "C= np.append(C,np.full([1,(len(A)-len(C))], np.nan)) "
   ]
  },
  {
   "cell_type": "code",
   "execution_count": 19,
   "id": "436ee904",
   "metadata": {},
   "outputs": [
    {
     "data": {
      "text/plain": [
       "array([20., 22., 24., 26., 28., 30., 32., 34., 36., 38., nan, nan, nan,\n",
       "       nan, nan, nan, nan, nan, nan, nan, nan, nan, nan, nan, nan, nan,\n",
       "       nan, nan, nan, nan, nan, nan, nan, nan, nan, nan, nan, nan, nan])"
      ]
     },
     "execution_count": 19,
     "metadata": {},
     "output_type": "execute_result"
    }
   ],
   "source": [
    "A+C"
   ]
  },
  {
   "cell_type": "markdown",
   "id": "87b174e8",
   "metadata": {},
   "source": [
    "<div class=\"alert alert-block alert-info\">\n",
    "\n",
    "    \n",
    "(d) B · C\n",
    "    \n",
    " </div>\n",
    "\n",
    "\n"
   ]
  },
  {
   "cell_type": "code",
   "execution_count": 20,
   "id": "49ec63f7",
   "metadata": {},
   "outputs": [
    {
     "data": {
      "text/plain": [
       "array([ 10.,  22.,  36.,  52.,  70.,  90., 112., 136., 162., 190.,  nan,\n",
       "        nan,  nan,  nan,  nan,  nan,  nan,  nan,  nan,  nan,  nan,  nan,\n",
       "        nan,  nan,  nan,  nan,  nan,  nan,  nan,  nan,  nan,  nan,  nan,\n",
       "        nan,  nan,  nan,  nan,  nan,  nan])"
      ]
     },
     "execution_count": 20,
     "metadata": {},
     "output_type": "execute_result"
    }
   ],
   "source": [
    "B*C"
   ]
  },
  {
   "cell_type": "markdown",
   "id": "af977868",
   "metadata": {},
   "source": [
    "<div class=\"alert alert-block alert-info\">\n",
    "8. Crie uma matriz 3 × 3 , com elementos variando de 0 à 8\n",
    " </div>\n",
    "\n"
   ]
  },
  {
   "cell_type": "code",
   "execution_count": 21,
   "id": "5d6dd008",
   "metadata": {},
   "outputs": [
    {
     "data": {
      "text/plain": [
       "array([[0, 1, 2],\n",
       "       [3, 4, 5],\n",
       "       [6, 7, 8]])"
      ]
     },
     "execution_count": 21,
     "metadata": {},
     "output_type": "execute_result"
    }
   ],
   "source": [
    "lista = np.arange(0,9)\n",
    "matriz = lista.reshape((3,3))\n",
    "matriz"
   ]
  },
  {
   "cell_type": "markdown",
   "id": "cca3635c",
   "metadata": {},
   "source": [
    "<div class=\"alert alert-block alert-info\">\n",
    "9. Crie uma matriz 3 × 3 × 3 com elementos aleatórios.\n",
    " </div>\n",
    "\n"
   ]
  },
  {
   "cell_type": "code",
   "execution_count": 141,
   "id": "2a124789",
   "metadata": {},
   "outputs": [
    {
     "data": {
      "text/plain": [
       "array([[[6.79038653e-313, 6.79038653e-313, 6.79038653e-313],\n",
       "        [6.79038653e-313, 2.14321575e-312, 2.48273508e-312],\n",
       "        [2.33419537e-312, 2.01589600e-312, 2.41907520e-312]],\n",
       "\n",
       "       [[2.37663529e-312, 2.46151512e-312, 2.35541533e-312],\n",
       "        [2.24931554e-312, 6.79038653e-313, 2.14321575e-312],\n",
       "        [2.20687562e-312, 2.12199579e-312, 6.79038653e-313]],\n",
       "\n",
       "       [[2.05833592e-312, 2.18565567e-312, 9.33678149e-313],\n",
       "        [8.91238232e-313, 2.27053550e-312, 2.12199579e-312],\n",
       "        [8.70018275e-313, 6.97843734e+252, 2.65690646e-312]]])"
      ]
     },
     "execution_count": 141,
     "metadata": {},
     "output_type": "execute_result"
    }
   ],
   "source": [
    "np.empty((3,3,3))"
   ]
  },
  {
   "cell_type": "markdown",
   "id": "bb010af4",
   "metadata": {},
   "source": [
    "<div class=\"alert alert-block alert-info\">\n",
    "10. Usando a função sin do numpy, e a função plot da matplotlib, módulo de geração de\n",
    "gráficos, plote um gráfico contendo os dois primeiros períodos de uma senóide.\n",
    " </div>"
   ]
  },
  {
   "cell_type": "code",
   "execution_count": 22,
   "id": "6a667be5",
   "metadata": {},
   "outputs": [
    {
     "data": {
      "text/plain": [
       "[<matplotlib.lines.Line2D at 0x25d1e123d90>]"
      ]
     },
     "execution_count": 22,
     "metadata": {},
     "output_type": "execute_result"
    },
    {
     "data": {
      "image/png": "[encoded data removed]",
      "text/plain": [
       "<Figure size 432x288 with 1 Axes>"
      ]
     },
     "metadata": {
      "needs_background": "light"
     },
     "output_type": "display_data"
    }
   ],
   "source": [
    "import matplotlib.pyplot as plt \n",
    "x = np.arange(0,4*3.14,0.01)\n",
    "y = np.sin(x)\n",
    "plt.plot(x,y)\n"
   ]
  }
 ],
 "metadata": {
  "kernelspec": {
   "display_name": "Python 3",
   "language": "python",
   "name": "python3"
  },
  "language_info": {
   "codemirror_mode": {
    "name": "ipython",
    "version": 3
   },
   "file_extension": ".py",
   "mimetype": "text/x-python",
   "name": "python",
   "nbconvert_exporter": "python",
   "pygments_lexer": "ipython3",
   "version": "3.8.8"
  }
 },
 "nbformat": 4,
 "nbformat_minor": 5
}
