{
 "cells": [
  {
   "cell_type": "markdown",
   "id": "fdb64405",
   "metadata": {},
   "source": [
    "<div class=\"alert alert-block alert-info\">\n",
    "<center>Métodos Numericos</center>\n",
    "<center>LISTA 10</center>\n",
    "<center>ALUNO: João Pedro de Sousa Corrêa</center>\n",
    "</div>"
   ]
  },
  {
   "cell_type": "code",
   "execution_count": 1,
   "id": "1cef02d6",
   "metadata": {},
   "outputs": [],
   "source": [
    "import numpy as np\n",
    "import scipy.linalg as sla"
   ]
  },
  {
   "cell_type": "markdown",
   "id": "b024ef2f",
   "metadata": {},
   "source": [
    "\n",
    "<div class=\"alert alert-block alert-info\">\n",
    "    <h3>• Exercício 1.1</h3> Classifique os sistemas abaixo com relação a quantidade e existência de\n",
    "soluções.\n",
    "    <p>a)</p>\n",
    "    $$x+2y+3z=1$$\n",
    "    $$4x+5y+6z=1$$\n",
    "    $$7x+8y+9z=1$$\n",
    "    <p>b)</p>\n",
    "    $$2x+3y=10$$\n",
    "    $$-4x-6y=-10$$\n",
    "</div>"
   ]
  },
  {
   "cell_type": "markdown",
   "id": "c1fad0df",
   "metadata": {},
   "source": [
    "<h4>a)"
   ]
  },
  {
   "cell_type": "code",
   "execution_count": 2,
   "id": "0066f7a3",
   "metadata": {},
   "outputs": [
    {
     "name": "stdout",
     "output_type": "stream",
     "text": [
      "2\n",
      "2\n",
      "3\n"
     ]
    }
   ],
   "source": [
    "A = np.array([[1, 2, 3], [4, 5, 6], [7, 8, 9]])\n",
    "b = np.ones(3)\n",
    "\n",
    "print(np.linalg.matrix_rank(A))\n",
    "print(np.linalg.matrix_rank(np.c_[A, b]))\n",
    "print(A.shape[1])"
   ]
  },
  {
   "cell_type": "markdown",
   "id": "bbc7aab5",
   "metadata": {},
   "source": [
    "<h4>R: O sistema é um possível indeterminado."
   ]
  },
  {
   "cell_type": "markdown",
   "id": "36e33c30",
   "metadata": {},
   "source": [
    "<h4>b)"
   ]
  },
  {
   "cell_type": "code",
   "execution_count": 3,
   "id": "3b6e1167",
   "metadata": {},
   "outputs": [
    {
     "name": "stdout",
     "output_type": "stream",
     "text": [
      "1\n",
      "2\n",
      "2\n"
     ]
    }
   ],
   "source": [
    "A = np.array([[2, 3], [-4, -6]])\n",
    "b = np.array([10, -10])\n",
    "\n",
    "print(np.linalg.matrix_rank(A))\n",
    "print(np.linalg.matrix_rank(np.c_[A, b]))\n",
    "print(A.shape[1])"
   ]
  },
  {
   "cell_type": "markdown",
   "id": "f087b6c2",
   "metadata": {},
   "source": [
    "<h4>R: O sistema é impossível."
   ]
  },
  {
   "cell_type": "markdown",
   "id": "1cd4b443",
   "metadata": {},
   "source": [
    "\n",
    "<!-- style=\"text-align:center\" -->\n",
    "<div class=\"alert alert-block alert-info\">\n",
    "    <h3>• Exercício 1.2</h3> Repita o exemplo 3.2 acima, porém fazendo cada passo da execução de\n",
    "forma explícita, comparando como o algoritmo 1.2 e a função sist_lin_tri_sup funcionam.\n",
    "\n",
    "</div>\n"
   ]
  },
  {
   "cell_type": "code",
   "execution_count": 4,
   "id": "d5054dc4",
   "metadata": {},
   "outputs": [],
   "source": [
    "def sist_lin_tri_sup(A, b) :\n",
    "    n = len(b)\n",
    "    x = np.empty(n)   \n",
    "    \n",
    "    x[-1] = b[-1]/A[-1, -1]   \n",
    "    \n",
    "    print(\"Maior indice: \", b[-1], \"/\", A[-1, -1])\n",
    "    print(\"R: \", x[-1])   \n",
    "    print(\"======================================================================\")\n",
    "    \n",
    "    for i in range(n-2, -1, -1):\n",
    "        x[i] = (b[i] - np.sum(A[i,i+1:]*x[i+1:]))/A[i,i]\n",
    "        \n",
    "        print(\"Calculando icógnita: \", \": \", \"(\",b[i], \"-\", \"sum(\",A[i,i+1:],\"*\",x[i+1:],\")\",\"/\",A[i,i])\n",
    "        print(\"R: \", x[i])\n",
    "        print(\"======================================================================\")\n",
    "        \n",
    "    return  x"
   ]
  },
  {
   "cell_type": "code",
   "execution_count": 5,
   "id": "32db5171",
   "metadata": {},
   "outputs": [
    {
     "name": "stdout",
     "output_type": "stream",
     "text": [
      "Maior indice:  2 / 2\n",
      "R:  1.0\n",
      "======================================================================\n",
      "Calculando icógnita:  :  ( 3 - sum( [-5] * [1.] ) / 4\n",
      "R:  2.0\n",
      "======================================================================\n",
      "Calculando icógnita:  :  ( -1 - sum( [ 1 -2] * [2. 1.] ) / 1\n",
      "R:  -1.0\n",
      "======================================================================\n",
      "Calculando icógnita:  :  ( -10 - sum( [ 4 -5  1] * [-1.  2.  1.] ) / 3\n",
      "R:  1.0\n",
      "======================================================================\n",
      "R: [ 1. -1.  2.  1.]\n"
     ]
    }
   ],
   "source": [
    "A = np.array([[3,4,-5,1],[0,1,1,-2],[0,0,4,-5],[0,0,0,2]])\n",
    "b = np.array([-10,-1,3,2])\n",
    "x = print(\"R:\",sist_lin_tri_sup(A, b))"
   ]
  },
  {
   "cell_type": "markdown",
   "id": "34312f21",
   "metadata": {},
   "source": [
    "\n",
    "<div class=\"alert alert-block alert-info\">\n",
    "    <h3>• Exercício 1.3</h3> Repita o exemplo 3.3 acima, porém fazendo cada passo da execução de forma\n",
    "explícita, comparando como o algoritmo 1.3 e a função sist_lin_tri_inf funcionam. Use\n",
    "a mesma sugestão do exercício anterior.\n",
    "\n",
    "</div>"
   ]
  },
  {
   "cell_type": "code",
   "execution_count": 6,
   "id": "7b48dc13",
   "metadata": {},
   "outputs": [],
   "source": [
    "def sist_lin_tri_inf(A,b):\n",
    "    n = len(b)    \n",
    "    x = np.empty(n)    \n",
    "    x[0] = b[0]/A[0, 0]    \n",
    "\n",
    "    print(\"Menor indice: \", b[0],\"/\",A[0, 0])\n",
    "    print(\"R: \", x[0])\n",
    "    print(\"=============================================================================================\")\n",
    "    \n",
    "    \n",
    "    for i in range(1,n):\n",
    "        x[i] = (b[i] - np.sum(A[i,:i]*x[:i]))/A[i,i]\n",
    "        \n",
    "        print(\"Calculando incógnita: \", \"(\",b[i], \"-\", \"sum(\",A[i,:i],\"*\",x[:i],\")\",\"/\",A[i,i])\n",
    "        print(\"R: \", x[i])\n",
    "        print(\"=============================================================================================\")\n",
    "        \n",
    "    return x"
   ]
  },
  {
   "cell_type": "code",
   "execution_count": 7,
   "id": "bfde5218",
   "metadata": {},
   "outputs": [
    {
     "name": "stdout",
     "output_type": "stream",
     "text": [
      "Menor indice:  4 / 3\n",
      "R:  1.3333333333333333\n",
      "=============================================================================================\n",
      "Calculando incógnita:  ( 2 - sum( [2] * [1.33333333] ) / 1\n",
      "R:  -0.6666666666666665\n",
      "=============================================================================================\n",
      "Calculando incógnita:  ( 4 - sum( [1 0] * [ 1.33333333 -0.66666667] ) / 1\n",
      "R:  2.666666666666667\n",
      "=============================================================================================\n",
      "Calculando incógnita:  ( 2 - sum( [1 1 1] * [ 1.33333333 -0.66666667  2.66666667] ) / 1\n",
      "R:  -1.333333333333334\n",
      "=============================================================================================\n",
      "R: [ 1.33333333 -0.66666667  2.66666667 -1.33333333]\n"
     ]
    }
   ],
   "source": [
    "A = np.array([[3,0,0,0],[2,1,0,0],[1,0,1,0],[1,1,1,1]])\n",
    "b = np.array([4,2,4,2])\n",
    "\n",
    "print(\"R:\",sist_lin_tri_inf(A,b))"
   ]
  },
  {
   "cell_type": "markdown",
   "id": "8390c16a",
   "metadata": {},
   "source": [
    "\n",
    "<div class=\"alert alert-block alert-info\">\n",
    "    <h3>• Exercício 1.4</h3> Implemente uma função, cujos parâmetros de entrada sejam somente a matriz\n",
    "de coeficientes e o vetor de termos independentes e que calcule o vetor solução para qualquer\n",
    "um dos casos triviais vistos aqui. Atente para o fato de que a própria função terá de verificar se\n",
    "a matriz de coeficientes é diagonal, triangular superior ou inferior e não o usuário\n",
    "\n",
    "</div>"
   ]
  },
  {
   "cell_type": "code",
   "execution_count": 8,
   "id": "cab0ab7b",
   "metadata": {},
   "outputs": [],
   "source": [
    "def sist_lin_tri_sup(A, b) :\n",
    "    n = len(b)\n",
    "    x = np.empty(n)\n",
    "    x[-1] = b[-1] / A[-1, -1]\n",
    "    for i in range(n - 2, -1, -1) :\n",
    "        x[i] = (b[i] - np.sum(A[i, i + 1 :] * x[i + 1 :])) / A[i, i]\n",
    "    return x\n",
    "def sist_lin_tri_inf(A,b):\n",
    "    n = len(b)\n",
    "    x = np.empty(n)\n",
    "    x[0] = b[0]/A[0, 0]\n",
    "    for i in range(1,n):\n",
    "        x[i] = (b[i] - np.sum(A[i,:i]*x[:i]))/A[i,i]   \n",
    "    return x\n",
    "\n",
    "def inf(A) :\n",
    "    n = len(A)\n",
    "    for i in range(n) :\n",
    "        for j in range(i + 1, n) :\n",
    "            if A[i, j] != 0 :\n",
    "                return False\n",
    "    return True\n",
    "\n",
    "def sup(A) :\n",
    "    n = len(A)\n",
    "    for i in range(n) :\n",
    "        for j in range(i) :\n",
    "            if A[i, j] != 0 :\n",
    "                return False\n",
    "    return True\n",
    "\n",
    "\n",
    "def diagonal(A) :\n",
    "    n = len(A)\n",
    "    for i in range(n) :\n",
    "        for j in range(n) :\n",
    "            if i != j and A[i, j] != 0:\n",
    "                return False\n",
    "    return True\n",
    "\n",
    "def verificarMatriz(A, b):\n",
    "    if diagonal(A) :\n",
    "        print(\"A matriz de coeficientes é diagonal.\")\n",
    "        print(b / A.diagonal())\n",
    "    elif sup(A) :\n",
    "        print(\"A matriz de coeficientes é triangular superior.\")\n",
    "        print(sist_lin_tri_sup(A, b))\n",
    "    elif inf(A) :\n",
    "        print(\"A matriz de coeficientes é triangular inferior.\")\n",
    "        print(sist_lin_tri_inf(A, b))"
   ]
  },
  {
   "cell_type": "code",
   "execution_count": 9,
   "id": "9b3c4bc9",
   "metadata": {},
   "outputs": [
    {
     "name": "stdout",
     "output_type": "stream",
     "text": [
      "A matriz de coeficientes é triangular superior.\n",
      "[ 1. -1.  2.  1.]\n"
     ]
    }
   ],
   "source": [
    "A = np.array([[3,4,-5,1],[0,1,1,-2],[0,0,4,-5],[0,0,0,2]])\n",
    "b = np.array([-10,-1,3,2])\n",
    "verificarMatriz(A,b)"
   ]
  },
  {
   "cell_type": "code",
   "execution_count": 10,
   "id": "b532ba96",
   "metadata": {},
   "outputs": [
    {
     "name": "stdout",
     "output_type": "stream",
     "text": [
      "A matriz de coeficientes é diagonal.\n",
      "[4.  0.5 1. ]\n"
     ]
    }
   ],
   "source": [
    "A = np.diag([1,4,2])\n",
    "b = np.array([4, 2, 2])\n",
    "verificarMatriz(A,b)"
   ]
  },
  {
   "cell_type": "code",
   "execution_count": 11,
   "id": "d9f9fb5c",
   "metadata": {},
   "outputs": [
    {
     "name": "stdout",
     "output_type": "stream",
     "text": [
      "A matriz de coeficientes é triangular inferior.\n",
      "[ 1.33333333 -0.66666667  2.66666667 -1.33333333]\n"
     ]
    }
   ],
   "source": [
    "A = np.array([[3,0,0,0],[2,1,0,0],[1,0,1,0],[1,1,1,1]])\n",
    "b = np.array([4,2,4,2])\n",
    "verificarMatriz(A,b)"
   ]
  },
  {
   "cell_type": "code",
   "execution_count": null,
   "id": "59919862",
   "metadata": {},
   "outputs": [],
   "source": []
  }
 ],
 "metadata": {
  "kernelspec": {
   "display_name": "Python 3",
   "language": "python",
   "name": "python3"
  },
  "language_info": {
   "codemirror_mode": {
    "name": "ipython",
    "version": 3
   },
   "file_extension": ".py",
   "mimetype": "text/x-python",
   "name": "python",
   "nbconvert_exporter": "python",
   "pygments_lexer": "ipython3",
   "version": "3.8.8"
  }
 },
 "nbformat": 4,
 "nbformat_minor": 5
}
